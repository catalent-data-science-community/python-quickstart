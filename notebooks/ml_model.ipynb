{
 "cells": [
  {
   "cell_type": "code",
   "execution_count": 4,
   "id": "6df8862f-a34b-4504-8131-55e5e57aff75",
   "metadata": {},
   "outputs": [],
   "source": [
    "# BEST PRACTICE: import built-in packages first\n",
    "# from PACKAGE import OBJECT lets us bring only what we need into our namespace\n",
    "from warnings import filterwarnings\n",
    "# import PACKAGE, brings the all modules into one object named PACKAGE\n",
    "import re\n",
    "\n",
    "# BEST PRACTICE: import third-party packages second\n",
    "# from PACKAGE import OBJECT as ALIAS, renames the object in our namespace\n",
    "from geopy.geocoders import Nominatim as geopy_Nominatim\n",
    "from nltk.tokenize import word_tokenize as nltk_word_tokenize\n",
    "from nltk.corpus import stopwords as nltk_stopwords\n",
    "from nltk.stem import WordNetLemmatizer as nltk_WordNetLemmatizer\n",
    "from nltk.tag import pos_tag as nltk_pos_tag\n",
    "from pandas_profiling import ProfileReport\n",
    "from wordcloud import (\n",
    "    # use parenthesis to import multiple objects and even add aliases\n",
    "    STOPWORDS as wordcloud_STOPWORDS,\n",
    "    WordCloud\n",
    ")\n",
    "import matplotlib.pyplot as plt\n",
    "import nltk\n",
    "# aliases can be added when fully importing packages\n",
    "import pandas as pd\n",
    "# aliases can also be used when importing an individual module from the package\n",
    "import plotly.express as px\n",
    "import plotly.io as pio\n",
    "import seaborn as sns\n",
    "\n",
    "# BEST PRACTICE: import custom packages last\n",
    "# for example: import custom_module as cm\n",
    "\n",
    "from nltk.corpus import wordnet\n",
    "import nltk\n",
    "import re\n",
    "import contractions\n",
    "from nltk.corpus import wordnet\n",
    "from gensim.models import Phrases\n",
    "from gensim import corpora\n",
    "import gensim\n",
    "from pprint import pprint\n",
    "from sklearn.feature_extraction.text import CountVectorizer,TfidfTransformer,TfidfVectorizer\n",
    "from nltk.stem import WordNetLemmatizer, SnowballStemmer\n",
    "from nltk.stem.porter import *\n",
    "from nltk.corpus import stopwords\n",
    "import string\n",
    "from wordcloud import WordCloud, STOPWORDS\n",
    "import nltk\n",
    "from nltk.stem import WordNetLemmatizer\n",
    "import pyLDAvis\n",
    "import pyLDAvis.gensim_models as gensimvis\n",
    "import pyLDAvis"
   ]
  },
  {
   "cell_type": "code",
   "execution_count": 5,
   "id": "e51589eb-9226-4b17-9a6d-b1f944f5a140",
   "metadata": {},
   "outputs": [],
   "source": [
    "# overwrite the 'cocoon_pharmacy_df' object with a dataframe of our 'new' file\n",
    "cocoon_pharmacy_df = pd.read_csv(\n",
    "    '../data/cocoon_pharmacy_location_added.csv',\n",
    "    # this dataframe was stored as .csv, with the index in the first position\n",
    "    index_col = 0\n",
    ")"
   ]
  },
  {
   "cell_type": "code",
   "execution_count": 6,
   "id": "87e4d597-2999-473a-bf6e-cbdaa83dd90f",
   "metadata": {},
   "outputs": [],
   "source": [
    "body_moisturizers = cocoon_pharmacy_df[cocoon_pharmacy_df['product_cat'] == 'Body Moisturisers']"
   ]
  },
  {
   "cell_type": "code",
   "execution_count": 7,
   "id": "94a01bd3-c6ab-46e8-ba27-71390bd9be51",
   "metadata": {},
   "outputs": [],
   "source": [
    "def get_wordnet_pos(treebank_tag):\n",
    "\n",
    "  if treebank_tag.startswith('J'):\n",
    "      return wordnet.ADJ\n",
    "  elif treebank_tag.startswith('V'):\n",
    "      return wordnet.VERB\n",
    "  elif treebank_tag.startswith('N'):\n",
    "      return wordnet.NOUN\n",
    "  elif treebank_tag.startswith('R'):\n",
    "      return wordnet.ADV\n",
    "  else:\n",
    "      return wordnet.NOUN  \n",
    "    \n",
    "def first_preprocessing(pdf):\n",
    "  stopwords = nltk.corpus.stopwords.words('english')\n",
    "\n",
    "  eng = pdf.copy(deep = True)\n",
    "  \n",
    "  eng['body_review_cleaned'] = eng['body_review'].apply(lambda x: contractions.fix(x.lower().strip())) #lower case, expand contractions, and strip spaces\n",
    "  eng['body_review_cleaned'] = eng['body_review_cleaned'].apply(lambda x: ' '.join(s for s in x.split() if not any(c.isdigit() for c in s))) #remove anyword containing a digit\n",
    "  eng['body_review_cleaned'] = eng['body_review_cleaned'].apply(lambda x: \"\".join([char for char in x if char not in string.punctuation])) #remove punctuations\n",
    "  eng['body_review_cleaned'] = eng['body_review_cleaned'].apply(lambda x: ' '.join([w for w in x.split() if w not in stopwords])) #remove stopwords\n",
    "  eng['body_review_cleaned'] = eng['body_review_cleaned'].apply(lambda x: re.sub(\"(\\\")?(\\')?(“)?(”)?\",'',x)) #remove “ and ”\n",
    "  eng['body_review_cleaned'] = eng['body_review_cleaned'].apply(lambda x: ' '.join([WordNetLemmatizer().lemmatize(word,get_wordnet_pos(pos_tag)) for pos in [nltk.pos_tag(x.split())]  for (word,pos_tag) in pos]))\n",
    "  \n",
    "  sentence_stream = [doc.split(\" \") for doc in eng['body_review_cleaned'].values]\n",
    "  \n",
    "  bigram = gensim.models.Phrases(sentence_stream, min_count=15, threshold=5) # higher threshold fewer phrases.\n",
    "  trigram = gensim.models.Phrases(bigram[sentence_stream], min_count=15,threshold=5)  \n",
    "\n",
    "  # Faster way to get a sentence clubbed as a trigram/bigram\n",
    "  bigram_mod = gensim.models.phrases.Phraser(bigram)\n",
    "  trigram_mod = gensim.models.phrases.Phraser(trigram)\n",
    "  \n",
    "  return pdf, eng, sentence_stream, bigram_mod, trigram_mod\n",
    "  \n",
    "def later_preprocessing(text, bigram_mod, trigram_mod):\n",
    "    \n",
    "    text = bigram_mod[text.split()] #bigram\n",
    "    text = trigram_mod[bigram_mod[text]] #trigram\n",
    "    text = ' '.join([w.strip() for w in text if len(w.strip()) > 2 and w.strip() not in ['no','qc']]) # remove short words\n",
    "\n",
    "    return text"
   ]
  },
  {
   "cell_type": "code",
   "execution_count": 8,
   "id": "17efe2d7-78ca-4295-9fcb-625c38d219b0",
   "metadata": {},
   "outputs": [],
   "source": [
    "pdf, eng, sentence_stream, bigram_mod, trigram_mod = first_preprocessing(cocoon_pharmacy_df)\n",
    "eng['body_review_cleaned'] = eng['body_review_cleaned'].apply(lambda x: later_preprocessing(x,bigram_mod, trigram_mod))"
   ]
  },
  {
   "cell_type": "code",
   "execution_count": 9,
   "id": "7ffdfffe-f2a0-4427-a4af-601a1eab275e",
   "metadata": {},
   "outputs": [
    {
     "name": "stdout",
     "output_type": "stream",
     "text": [
      "Total number of unique words after filtering extremes: 236\n"
     ]
    }
   ],
   "source": [
    "sentence_streams = [doc.split(\" \") for doc in eng['body_review_cleaned'].values]\n",
    "id2word = corpora.Dictionary(sentence_streams)\n",
    "id2word.filter_extremes(no_below=7, no_above=0.95, keep_n=25000)\n",
    "corpus = [id2word.doc2bow(text) for text in sentence_streams]\n",
    "print('Total number of unique words after filtering extremes: {}'.format(len(id2word)))"
   ]
  },
  {
   "cell_type": "code",
   "execution_count": 10,
   "id": "2ac38fa3-7ce1-4eaf-8438-ade06b2a996d",
   "metadata": {},
   "outputs": [],
   "source": [
    "optimal_model = gensim.models.ldamodel.LdaModel(corpus=corpus,\n",
    "                                           id2word=id2word,\n",
    "                                           num_topics=4, \n",
    "                                           random_state=100,\n",
    "                                           update_every=1,\n",
    "                                           chunksize=100,\n",
    "                                           passes=10,\n",
    "                                           alpha='auto',\n",
    "                                           per_word_topics=True)\n",
    "model_topics = optimal_model.show_topics(formatted=False)"
   ]
  },
  {
   "cell_type": "code",
   "execution_count": 11,
   "id": "97d98286-844b-40c7-8e8f-84b869966b9b",
   "metadata": {},
   "outputs": [
    {
     "name": "stdout",
     "output_type": "stream",
     "text": [
      "[(0,\n",
      "  '0.136*\"use\" + 0.118*\"skin\" + 0.046*\"cream\" + 0.044*\"dry_skin\" + '\n",
      "  '0.041*\"love\" + 0.034*\"help\" + 0.033*\"smell\" + 0.025*\"really\" + 0.023*\"year\" '\n",
      "  '+ 0.020*\"day\"'),\n",
      " (1,\n",
      "  '0.054*\"excellent\" + 0.043*\"cream\" + 0.040*\"body\" + 0.038*\"dry\" + '\n",
      "  '0.038*\"time\" + 0.029*\"oil\" + 0.025*\"greasy\" + 0.024*\"hand\" + 0.023*\"skin\" + '\n",
      "  '0.022*\"face\"'),\n",
      " (2,\n",
      "  '0.374*\"good\" + 0.093*\"like\" + 0.055*\"one\" + 0.048*\"work\" + 0.045*\"balm\" + '\n",
      "  '0.043*\"little\" + 0.039*\"quality\" + 0.030*\"price\" + 0.024*\"son\" + '\n",
      "  '0.016*\"always\"'),\n",
      " (3,\n",
      "  '0.221*\"product\" + 0.078*\"great\" + 0.063*\"recommend\" + 0.053*\"buy\" + '\n",
      "  '0.053*\"nice\" + 0.051*\"available\" + 0.030*\"happy\" + 0.028*\"perfect\" + '\n",
      "  '0.021*\"eczema\" + 0.021*\"soothe\"')]\n"
     ]
    }
   ],
   "source": [
    "pprint(optimal_model.print_topics())"
   ]
  },
  {
   "cell_type": "code",
   "execution_count": 12,
   "id": "b374057d-2a86-417a-a31f-f5aab450429a",
   "metadata": {
    "tags": []
   },
   "outputs": [
    {
     "name": "stderr",
     "output_type": "stream",
     "text": [
      "/anaconda/envs/azureml_py38/lib/python3.8/site-packages/seaborn/_decorators.py:36: FutureWarning: Pass the following variables as keyword args: x, y. From version 0.12, the only valid positional argument will be `data`, and passing other arguments without an explicit keyword will result in an error or misinterpretation.\n",
      "  warnings.warn(\n",
      "/anaconda/envs/azureml_py38/lib/python3.8/site-packages/seaborn/_decorators.py:36: FutureWarning: Pass the following variables as keyword args: x, y. From version 0.12, the only valid positional argument will be `data`, and passing other arguments without an explicit keyword will result in an error or misinterpretation.\n",
      "  warnings.warn(\n",
      "/anaconda/envs/azureml_py38/lib/python3.8/site-packages/seaborn/_decorators.py:36: FutureWarning: Pass the following variables as keyword args: x, y. From version 0.12, the only valid positional argument will be `data`, and passing other arguments without an explicit keyword will result in an error or misinterpretation.\n",
      "  warnings.warn(\n",
      "/anaconda/envs/azureml_py38/lib/python3.8/site-packages/seaborn/_decorators.py:36: FutureWarning: Pass the following variables as keyword args: x, y. From version 0.12, the only valid positional argument will be `data`, and passing other arguments without an explicit keyword will result in an error or misinterpretation.\n",
      "  warnings.warn(\n"
     ]
    }
   ],
   "source": [
    "top_n_words = 10\n",
    "topics = optimal_model.show_topics(\n",
    "    num_topics =4, num_words = top_n_words, formatted = False)\n",
    "\n",
    "for _, infos in topics:\n",
    "    probs = [prob for _, prob in infos]\n",
    "    sns.lineplot(range(top_n_words), probs, marker = '*')\n",
    "\n",
    "plt.xlabel('Word rank')\n",
    "plt.ylabel('Weights')\n",
    "plt.title('Weights of Top {} Words in each Topic'.format(top_n_words))\n",
    "plt.show()"
   ]
  },
  {
   "cell_type": "code",
   "execution_count": 13,
   "id": "3bd79996-370b-49c3-9347-1ec302fda26a",
   "metadata": {},
   "outputs": [
    {
     "data": {
      "text/html": [
       "\n",
       "<link rel=\"stylesheet\" type=\"text/css\" href=\"https://cdn.jsdelivr.net/gh/bmabey/pyLDAvis@3.3.1/pyLDAvis/js/ldavis.v1.0.0.css\">\n",
       "\n",
       "\n",
       "<div id=\"ldavis_el8534121405453580110726385618719\"></div>\n",
       "<script type=\"text/javascript\">\n",
       "\n",
       "var ldavis_el8534121405453580110726385618719_data = {\"mdsDat\": {\"x\": [0.24782755397076273, 0.2167289197905791, -0.25038392853887326, -0.21417254522246823], \"y\": [-0.04892197703461387, 0.026952096639154946, -0.30344768162328845, 0.32541756201874755], \"topics\": [1, 2, 3, 4], \"cluster\": [1, 1, 1, 1], \"Freq\": [35.830769066066146, 29.30491377051475, 20.7573949043587, 14.1069222590604]}, \"tinfo\": {\"Term\": [\"good\", \"product\", \"use\", \"skin\", \"like\", \"great\", \"recommend\", \"excellent\", \"buy\", \"nice\", \"available\", \"one\", \"love\", \"body\", \"work\", \"time\", \"dry_skin\", \"balm\", \"cream\", \"help\", \"little\", \"smell\", \"dry\", \"quality\", \"oil\", \"happy\", \"perfect\", \"really\", \"greasy\", \"price\", \"use\", \"love\", \"help\", \"smell\", \"really\", \"year\", \"day\", \"make\", \"feel\", \"find\", \"also\", \"apply\", \"atopic\", \"every\", \"family\", \"smooth\", \"need\", \"try\", \"even\", \"first\", \"think\", \"friend\", \"itch\", \"baby\", \"foot\", \"leave\", \"moisturizer\", \"itchy\", \"well\", \"difference\", \"dry_skin\", \"skin\", \"cream\", \"soft\", \"excellent\", \"body\", \"time\", \"oil\", \"greasy\", \"hand\", \"face\", \"best\", \"lotion\", \"get\", \"much\", \"light\", \"lovely\", \"child\", \"absorb\", \"come\", \"keep\", \"last\", \"take\", \"quickly\", \"leaf\", \"scent\", \"amaze\", \"moisturize\", \"many\", \"winter\", \"sure\", \"sensitive_skin\", \"would_recommend\", \"since\", \"tube\", \"dry\", \"long\", \"cream\", \"skin\", \"product\", \"great\", \"buy\", \"available\", \"nice\", \"happy\", \"perfect\", \"moisturise\", \"super\", \"soothe\", \"buy_month_ago\", \"definitely\", \"look\", \"week\", \"say\", \"texture\", \"fragrance\", \"result\", \"seem\", \"highly\", \"easy\", \"start\", \"daily\", \"wonderful\", \"high\", \"easily\", \"want\", \"everyone\", \"expensive\", \"sticky\", \"recommend\", \"eczema\", \"good\", \"like\", \"one\", \"work\", \"quality\", \"little\", \"price\", \"balm\", \"son\", \"always\", \"fast\", \"thing\", \"delivery\", \"everything\", \"ship\", \"see\", \"service\", \"purchase\", \"dermatitis\", \"morning\", \"back\", \"everyday\", \"night\", \"still\", \"second\", \"kid\", \"hydration\", \"favorite\", \"moist\", \"moisturizing\", \"aquaphor\", \"crack\", \"easily\"], \"Freq\": [383.0, 334.0, 355.0, 354.0, 96.0, 118.0, 100.0, 115.0, 80.0, 80.0, 77.0, 56.0, 107.0, 85.0, 49.0, 81.0, 122.0, 47.0, 211.0, 90.0, 44.0, 86.0, 89.0, 40.0, 62.0, 45.0, 42.0, 66.0, 54.0, 31.0, 354.13745334244106, 107.00330533908738, 89.67253344088053, 85.94150718673498, 65.69240172810002, 59.52208088129453, 52.60465233568091, 50.40629972143696, 46.81208012198433, 40.9967528424365, 39.81369540119577, 39.87571083146194, 34.155402309318525, 34.621968399138204, 32.499269714693, 33.98279095835807, 34.666775765228685, 32.11167751635642, 30.541863925524446, 26.48371239563236, 25.897550138625153, 23.578443005598704, 25.390196986681687, 22.583520765354958, 24.532374624024143, 22.043421159221083, 20.95621367747071, 22.372334852283736, 41.25107160077784, 19.761406722195925, 114.08741534789381, 306.21936554691996, 118.423275614359, 38.75469790044373, 114.89050016087631, 85.11594515890489, 80.78377352450343, 61.990574535690534, 53.97473939916308, 51.18519753582261, 46.09294877921261, 42.26148589676105, 40.276849326848925, 35.90832838392454, 34.139476689482635, 30.39884149305506, 29.727116577789527, 26.992177955987025, 29.098713537425517, 27.386944527540244, 25.964406212423658, 25.367573953709677, 26.483791056751514, 27.15315742909762, 25.926380158262223, 24.310304567902765, 23.61141280574936, 21.587301362453864, 21.865678795855512, 21.16149914083738, 21.874450989940705, 20.396591960566123, 19.648045933067863, 19.36238872811743, 20.728617326524933, 80.86368650812632, 29.590580726380846, 92.1966239737865, 48.23955184271758, 333.42302428782097, 118.00558735226721, 79.88897036517834, 77.16057369844101, 79.45808665883129, 44.53500465650545, 41.50217714786149, 28.90881451806606, 26.994922323171398, 31.146289252101813, 25.027761399361328, 27.386323377926168, 27.878643572645434, 23.865412576941882, 26.948004736191827, 21.96470981142104, 21.24904252916913, 21.52247856301668, 22.24188998663527, 18.7159476885913, 18.295761529006214, 17.696600638910127, 15.89008963224049, 14.2515778415694, 13.09220664338645, 17.673593893984297, 12.619088685492635, 11.713528015257145, 12.784159412968156, 12.04096068851827, 94.68737254260688, 31.283737285340052, 383.2374323095495, 95.4441635418906, 55.9227354992781, 49.11762315970553, 39.67314337476293, 43.58537932977051, 30.935568727212523, 45.890308235563694, 25.07584929535494, 16.839360004087787, 15.690988590727626, 16.157144768123054, 14.054370035536945, 13.797053329258098, 13.694588998019135, 13.201496994937798, 11.707787535319156, 11.67171058800188, 12.301722873328874, 12.898558640287485, 11.40661996886922, 8.787259758715734, 11.280517141696775, 7.957674109493099, 6.718100425194222, 5.9113484982806, 3.236453899074146, 0.22027890242645612, 0.21839887109626033, 0.22067903818620763, 0.3356633208349876, 0.3145798738242461, 0.29050688003845704], \"Total\": [383.0, 334.0, 355.0, 354.0, 96.0, 118.0, 100.0, 115.0, 80.0, 80.0, 77.0, 56.0, 107.0, 85.0, 49.0, 81.0, 122.0, 47.0, 211.0, 90.0, 44.0, 86.0, 89.0, 40.0, 62.0, 45.0, 42.0, 66.0, 54.0, 31.0, 355.8986783537532, 107.68182240444119, 90.37255901965693, 86.64766160142233, 66.37450198483242, 60.207341561279726, 53.284310633249554, 51.102560753550776, 47.49700396921947, 41.69572555283939, 40.50653756900165, 40.58867195549982, 34.839479024124735, 35.319507773574756, 33.16039187094156, 34.67414391416165, 35.4041617864363, 32.79791486366409, 31.231534358547375, 27.181111279198785, 26.602650722138172, 24.25313448871466, 26.12428848958485, 23.253283285097513, 25.264305623656632, 22.749617790308996, 21.62898727081668, 23.099069793118638, 42.64957366643938, 20.47312824114246, 122.63965904501131, 354.9254982294029, 211.08908545775913, 47.871265330558515, 115.55797186291302, 85.77932245131275, 81.47462707660496, 62.708452079745676, 54.68650207753032, 51.91052519470397, 46.764507894765366, 42.91593954201717, 40.93163740276691, 36.61766244455534, 34.81968320597455, 31.08988420183002, 30.422874044737906, 27.66065815396252, 29.82411033369975, 28.084817003323778, 26.639418122466246, 26.03886316349115, 27.185812343286564, 27.874758731242263, 26.625734031139267, 24.981949915458294, 24.27564097959646, 22.241612613993176, 22.552133671964146, 21.841729154229608, 22.596955057182072, 21.07303065104522, 20.316885103760267, 20.039922660371786, 21.480357784308207, 89.75912630034524, 35.374574899627405, 211.08908545775913, 354.9254982294029, 334.06536887897033, 118.63925123756516, 80.53244084990618, 77.78492803523717, 80.11420490273912, 45.15858590904569, 42.14540903697944, 29.589905829890736, 27.638515434367232, 31.925234098676484, 25.65944284697232, 28.090082255468143, 28.606008372482297, 24.549479292515038, 27.7403136834554, 22.61586827637751, 21.922842430373276, 22.235250386546145, 22.986111013963008, 19.380488422644344, 18.96524093309703, 18.370818135138343, 16.533849309762886, 14.901250238433018, 13.7491183691095, 18.572439602322664, 13.287630039625508, 12.345638779812536, 13.477332329803673, 12.713883915150559, 100.54316611653715, 52.394701199868365, 383.883568698858, 96.42928041910855, 56.589312910960544, 49.850248574214994, 40.31717436880234, 44.30841177516269, 31.579011605495452, 47.11142902403101, 25.758691932793116, 17.483571258806855, 16.35084224474201, 16.84915540502005, 14.697488499510658, 14.465046689648343, 14.375699813019356, 13.891886975036927, 12.359070654628386, 12.337039830414923, 13.024404734982493, 13.73928196465095, 12.21259989011389, 9.422910338532116, 12.164035398688238, 8.631205201908632, 7.367195289799036, 6.549224847933633, 3.908406704368564, 4.2338877668634165, 4.626832422845943, 4.842279638335318, 13.311544405780202, 18.104075747470564, 18.572439602322664], \"Category\": [\"Default\", \"Default\", \"Default\", \"Default\", \"Default\", \"Default\", \"Default\", \"Default\", \"Default\", \"Default\", \"Default\", \"Default\", \"Default\", \"Default\", \"Default\", \"Default\", \"Default\", \"Default\", \"Default\", \"Default\", \"Default\", \"Default\", \"Default\", \"Default\", \"Default\", \"Default\", \"Default\", \"Default\", \"Default\", \"Default\", \"Topic1\", \"Topic1\", \"Topic1\", \"Topic1\", \"Topic1\", \"Topic1\", \"Topic1\", \"Topic1\", \"Topic1\", \"Topic1\", \"Topic1\", \"Topic1\", \"Topic1\", \"Topic1\", \"Topic1\", \"Topic1\", \"Topic1\", \"Topic1\", \"Topic1\", \"Topic1\", \"Topic1\", \"Topic1\", \"Topic1\", \"Topic1\", \"Topic1\", \"Topic1\", \"Topic1\", \"Topic1\", \"Topic1\", \"Topic1\", \"Topic1\", \"Topic1\", \"Topic1\", \"Topic1\", \"Topic2\", \"Topic2\", \"Topic2\", \"Topic2\", \"Topic2\", \"Topic2\", \"Topic2\", \"Topic2\", \"Topic2\", \"Topic2\", \"Topic2\", \"Topic2\", \"Topic2\", \"Topic2\", \"Topic2\", \"Topic2\", \"Topic2\", \"Topic2\", \"Topic2\", \"Topic2\", \"Topic2\", \"Topic2\", \"Topic2\", \"Topic2\", \"Topic2\", \"Topic2\", \"Topic2\", \"Topic2\", \"Topic2\", \"Topic2\", \"Topic2\", \"Topic2\", \"Topic2\", \"Topic2\", \"Topic2\", \"Topic3\", \"Topic3\", \"Topic3\", \"Topic3\", \"Topic3\", \"Topic3\", \"Topic3\", \"Topic3\", \"Topic3\", \"Topic3\", \"Topic3\", \"Topic3\", \"Topic3\", \"Topic3\", \"Topic3\", \"Topic3\", \"Topic3\", \"Topic3\", \"Topic3\", \"Topic3\", \"Topic3\", \"Topic3\", \"Topic3\", \"Topic3\", \"Topic3\", \"Topic3\", \"Topic3\", \"Topic3\", \"Topic3\", \"Topic3\", \"Topic3\", \"Topic3\", \"Topic4\", \"Topic4\", \"Topic4\", \"Topic4\", \"Topic4\", \"Topic4\", \"Topic4\", \"Topic4\", \"Topic4\", \"Topic4\", \"Topic4\", \"Topic4\", \"Topic4\", \"Topic4\", \"Topic4\", \"Topic4\", \"Topic4\", \"Topic4\", \"Topic4\", \"Topic4\", \"Topic4\", \"Topic4\", \"Topic4\", \"Topic4\", \"Topic4\", \"Topic4\", \"Topic4\", \"Topic4\", \"Topic4\", \"Topic4\", \"Topic4\", \"Topic4\", \"Topic4\"], \"logprob\": [30.0, 29.0, 28.0, 27.0, 26.0, 25.0, 24.0, 23.0, 22.0, 21.0, 20.0, 19.0, 18.0, 17.0, 16.0, 15.0, 14.0, 13.0, 12.0, 11.0, 10.0, 9.0, 8.0, 7.0, 6.0, 5.0, 4.0, 3.0, 2.0, 1.0, -1.9944, -3.1912, -3.3679, -3.4104, -3.6791, -3.7777, -3.9012, -3.9439, -4.0179, -4.1506, -4.1798, -4.1783, -4.3331, -4.3196, -4.3828, -4.3382, -4.3183, -4.3948, -4.4449, -4.5875, -4.6099, -4.7037, -4.6297, -4.7468, -4.6641, -4.771, -4.8216, -4.7562, -4.1444, -4.8803, -3.1271, -2.1397, -3.0898, -4.2068, -2.919, -3.219, -3.2712, -3.536, -3.6745, -3.7275, -3.8323, -3.9191, -3.9672, -4.082, -4.1325, -4.2486, -4.2709, -4.3674, -4.2923, -4.3529, -4.4063, -4.4295, -4.3865, -4.3615, -4.4077, -4.4721, -4.5013, -4.5909, -4.5781, -4.6108, -4.5777, -4.6476, -4.685, -4.6997, -4.6315, -3.2702, -4.2755, -3.1391, -3.7868, -1.5087, -2.5474, -2.9375, -2.9723, -2.9429, -3.5219, -3.5924, -3.954, -4.0225, -3.8794, -4.0982, -4.0081, -3.9903, -4.1457, -4.0242, -4.2287, -4.2618, -4.249, -4.2162, -4.3888, -4.4115, -4.4448, -4.5524, -4.6613, -4.7461, -4.4461, -4.7829, -4.8574, -4.7699, -4.8298, -2.7676, -3.875, -0.9833, -2.3734, -2.9079, -3.0377, -3.2512, -3.1572, -3.5, -3.1057, -3.71, -4.1082, -4.1788, -4.1495, -4.289, -4.3075, -4.3149, -4.3516, -4.4717, -4.4747, -4.4222, -4.3748, -4.4977, -4.7586, -4.5088, -4.8578, -5.0271, -5.155, -5.7574, -8.4448, -8.4533, -8.443, -8.0236, -8.0884, -8.168], \"loglift\": [30.0, 29.0, 28.0, 27.0, 26.0, 25.0, 24.0, 23.0, 22.0, 21.0, 20.0, 19.0, 18.0, 17.0, 16.0, 15.0, 14.0, 13.0, 12.0, 11.0, 10.0, 9.0, 8.0, 7.0, 6.0, 5.0, 4.0, 3.0, 2.0, 1.0, 1.0214, 1.02, 1.0186, 1.0182, 1.016, 1.0149, 1.0135, 1.0126, 1.0118, 1.0095, 1.0091, 1.0086, 1.0065, 1.0064, 1.0062, 1.0062, 1.0053, 1.0052, 1.004, 1.0004, 0.9995, 0.9982, 0.9979, 0.9971, 0.997, 0.9948, 0.9948, 0.9944, 0.993, 0.991, 0.9541, 0.8788, 0.4483, 0.8151, 1.2216, 1.2197, 1.2189, 1.2159, 1.2143, 1.2133, 1.213, 1.212, 1.2113, 1.2079, 1.2077, 1.2049, 1.2043, 1.203, 1.2028, 1.2023, 1.2017, 1.2013, 1.2013, 1.2012, 1.2008, 1.2002, 1.1997, 1.1976, 1.1965, 1.1958, 1.1949, 1.1948, 1.1939, 1.193, 1.1918, 1.1231, 1.0489, 0.3991, -0.7683, 1.5703, 1.5669, 1.5642, 1.5642, 1.564, 1.5584, 1.5569, 1.549, 1.5487, 1.5476, 1.5473, 1.5469, 1.5465, 1.544, 1.5433, 1.5431, 1.5411, 1.5397, 1.5394, 1.5374, 1.5363, 1.5349, 1.5326, 1.5277, 1.5233, 1.5227, 1.5206, 1.5197, 1.5195, 1.5179, 1.5123, 1.0566, 1.9568, 1.9482, 1.9467, 1.9437, 1.9424, 1.9421, 1.9379, 1.9322, 1.9316, 1.921, 1.9173, 1.9166, 1.9138, 1.9112, 1.91, 1.9075, 1.9044, 1.9031, 1.9014, 1.8954, 1.8902, 1.8887, 1.8831, 1.8773, 1.8663, 1.856, 1.7699, -0.9975, -1.0948, -1.1299, -1.7218, -2.0941, -2.1993]}, \"token.table\": {\"Topic\": [2, 1, 4, 2, 1, 1, 1, 3, 1, 4, 4, 2, 2, 3, 3, 2, 2, 1, 1, 2, 3, 1, 3, 4, 4, 1, 1, 2, 1, 2, 3, 3, 1, 3, 1, 1, 4, 3, 4, 2, 3, 2, 1, 4, 3, 1, 1, 1, 1, 3, 1, 2, 4, 2, 3, 2, 3, 1, 3, 3, 4, 1, 1, 2, 4, 2, 2, 1, 2, 2, 4, 4, 1, 2, 3, 2, 1, 2, 1, 2, 1, 3, 2, 1, 2, 4, 2, 1, 3, 4, 2, 4, 3, 4, 3, 4, 4, 2, 1, 1, 3, 3, 3, 2, 4, 4, 3, 2, 4, 4, 2, 1, 2, 1, 1, 1, 2, 4, 3, 3, 3, 4, 3, 2, 2, 3, 4, 1, 2, 1, 2, 1, 2, 3, 3, 1, 3, 2, 3, 4, 2, 1], \"Freq\": [0.9723676473672194, 0.9874949181193584, 0.972341391146659, 0.9886453676000508, 0.9854966440847037, 0.90147316000308, 0.9759043749321442, 0.9899089958033824, 0.9891076334471942, 0.9007091118169285, 0.9764085053870032, 0.9786573578071054, 0.9909147982399245, 0.9933884923356722, 0.9743001883982789, 0.9761156025180161, 0.9613735420389105, 0.9390150724692576, 0.5590056906263535, 0.43583494523410615, 0.9677117348923908, 0.9946642711546663, 0.9611933405693056, 0.9525436948269168, 0.9213472895055983, 0.9768902809785721, 0.08912742725715712, 0.902415200978716, 0.9295524864282249, 0.06523175343355964, 0.9691780070588533, 0.9491047365808811, 0.40080388892556107, 0.5916628836520187, 0.9925865198971882, 0.9909537874756623, 0.9551189257524023, 0.9720031675981221, 0.9678503153411081, 0.9951714983058465, 0.9645825807271886, 0.983651963226348, 0.9650066900458312, 0.9785428640622575, 0.9447581561575764, 0.9895360985391509, 0.9833142236136957, 0.9565466155130063, 0.9895383776782234, 0.9579049827455444, 0.9895628134651029, 0.9831321170353083, 0.9976983419690173, 0.9874465900825573, 0.9946118065404416, 0.9824597190783794, 0.9964882445751269, 0.9958775205250534, 0.9455151705732229, 0.9803674492434474, 0.7675762086496255, 0.9569638618087886, 0.9524193050645677, 0.975997293952641, 0.9161389537409269, 0.9601033594681764, 0.9764989002591455, 0.967049213871702, 0.9649440893779248, 0.010370294122840294, 0.9851779416698279, 0.9930394306000476, 0.1413444547160527, 0.8480667282963161, 0.9788153466016164, 0.9772391855815684, 0.9936681754708763, 0.9861001283404042, 0.9784245498211327, 0.9755174530270484, 0.8645223415158007, 0.9800639504132915, 0.989136911149996, 0.9709192454116725, 0.8260572083307279, 0.9461920960241584, 0.9764591997829003, 0.9885843424602376, 0.9860922928200836, 0.9043051618532969, 0.9887024466997727, 0.9895861447922545, 0.9965498249915702, 0.9816646697898964, 0.9968108969734115, 0.9726806563772286, 0.9921330208833342, 0.9686182492312723, 0.9943577432050941, 0.04972988411966877, 0.9448677982737066, 0.989419935352359, 0.9733127140556839, 0.9606936240453078, 0.9501580621451053, 0.9357979965832139, 0.9570997019302661, 0.9490803829399832, 0.9709467916591352, 0.9738656331235365, 0.9481074514110678, 0.8621527659368662, 0.1352396495587241, 0.9925253424102596, 0.9805577344366299, 0.8146849624863465, 0.1880042221122338, 0.970546177780587, 0.9710187215599825, 0.9798148273849019, 0.9438500524375674, 0.9268694015328182, 0.9768976218754041, 0.9735825001345773, 0.956381206185314, 0.9727683116627988, 0.9496024943323241, 0.977346215291371, 0.9941745412819294, 0.975671780752499, 0.9776373471460928, 0.9946651154689988, 0.0028097884617768326, 0.97835354846818, 0.9776174766899203, 0.9613226223703751, 0.023446893228545734, 0.9614623389803088, 0.9395184817372887, 0.9829439451450441, 0.9844028697242759, 0.9965562079988419], \"Term\": [\"absorb\", \"also\", \"always\", \"amaze\", \"apply\", \"aquaphor\", \"atopic\", \"available\", \"baby\", \"back\", \"balm\", \"best\", \"body\", \"buy\", \"buy_month_ago\", \"child\", \"come\", \"crack\", \"cream\", \"cream\", \"daily\", \"day\", \"definitely\", \"delivery\", \"dermatitis\", \"difference\", \"dry\", \"dry\", \"dry_skin\", \"dry_skin\", \"easily\", \"easy\", \"eczema\", \"eczema\", \"even\", \"every\", \"everyday\", \"everyone\", \"everything\", \"excellent\", \"expensive\", \"face\", \"family\", \"fast\", \"favorite\", \"feel\", \"find\", \"first\", \"foot\", \"fragrance\", \"friend\", \"get\", \"good\", \"greasy\", \"great\", \"hand\", \"happy\", \"help\", \"high\", \"highly\", \"hydration\", \"itch\", \"itchy\", \"keep\", \"kid\", \"last\", \"leaf\", \"leave\", \"light\", \"like\", \"like\", \"little\", \"long\", \"long\", \"look\", \"lotion\", \"love\", \"lovely\", \"make\", \"many\", \"moist\", \"moisturise\", \"moisturize\", \"moisturizer\", \"moisturizing\", \"morning\", \"much\", \"need\", \"nice\", \"night\", \"oil\", \"one\", \"perfect\", \"price\", \"product\", \"purchase\", \"quality\", \"quickly\", \"really\", \"recommend\", \"recommend\", \"result\", \"say\", \"scent\", \"second\", \"see\", \"seem\", \"sensitive_skin\", \"service\", \"ship\", \"since\", \"skin\", \"skin\", \"smell\", \"smooth\", \"soft\", \"soft\", \"son\", \"soothe\", \"start\", \"sticky\", \"still\", \"super\", \"sure\", \"take\", \"texture\", \"thing\", \"think\", \"time\", \"try\", \"tube\", \"use\", \"use\", \"want\", \"week\", \"well\", \"well\", \"winter\", \"wonderful\", \"work\", \"would_recommend\", \"year\"]}, \"R\": 30, \"lambda.step\": 0.01, \"plot.opts\": {\"xlab\": \"PC1\", \"ylab\": \"PC2\"}, \"topic.order\": [1, 2, 4, 3]};\n",
       "\n",
       "function LDAvis_load_lib(url, callback){\n",
       "  var s = document.createElement('script');\n",
       "  s.src = url;\n",
       "  s.async = true;\n",
       "  s.onreadystatechange = s.onload = callback;\n",
       "  s.onerror = function(){console.warn(\"failed to load library \" + url);};\n",
       "  document.getElementsByTagName(\"head\")[0].appendChild(s);\n",
       "}\n",
       "\n",
       "if(typeof(LDAvis) !== \"undefined\"){\n",
       "   // already loaded: just create the visualization\n",
       "   !function(LDAvis){\n",
       "       new LDAvis(\"#\" + \"ldavis_el8534121405453580110726385618719\", ldavis_el8534121405453580110726385618719_data);\n",
       "   }(LDAvis);\n",
       "}else if(typeof define === \"function\" && define.amd){\n",
       "   // require.js is available: use it to load d3/LDAvis\n",
       "   require.config({paths: {d3: \"https://d3js.org/d3.v5\"}});\n",
       "   require([\"d3\"], function(d3){\n",
       "      window.d3 = d3;\n",
       "      LDAvis_load_lib(\"https://cdn.jsdelivr.net/gh/bmabey/pyLDAvis@3.3.1/pyLDAvis/js/ldavis.v3.0.0.js\", function(){\n",
       "        new LDAvis(\"#\" + \"ldavis_el8534121405453580110726385618719\", ldavis_el8534121405453580110726385618719_data);\n",
       "      });\n",
       "    });\n",
       "}else{\n",
       "    // require.js not available: dynamically load d3 & LDAvis\n",
       "    LDAvis_load_lib(\"https://d3js.org/d3.v5.js\", function(){\n",
       "         LDAvis_load_lib(\"https://cdn.jsdelivr.net/gh/bmabey/pyLDAvis@3.3.1/pyLDAvis/js/ldavis.v3.0.0.js\", function(){\n",
       "                 new LDAvis(\"#\" + \"ldavis_el8534121405453580110726385618719\", ldavis_el8534121405453580110726385618719_data);\n",
       "            })\n",
       "         });\n",
       "}\n",
       "</script>"
      ],
      "text/plain": [
       "PreparedData(topic_coordinates=              x         y  topics  cluster       Freq\n",
       "topic                                                \n",
       "0      0.247828 -0.048922       1        1  35.830769\n",
       "1      0.216729  0.026952       2        1  29.304914\n",
       "3     -0.250384 -0.303448       3        1  20.757395\n",
       "2     -0.214173  0.325418       4        1  14.106922, topic_info=             Term        Freq       Total Category  logprob  loglift\n",
       "32           good  383.000000  383.000000  Default  30.0000  30.0000\n",
       "18        product  334.000000  334.000000  Default  29.0000  29.0000\n",
       "13            use  355.000000  355.000000  Default  28.0000  28.0000\n",
       "19           skin  354.000000  354.000000  Default  27.0000  27.0000\n",
       "6            like   96.000000   96.000000  Default  26.0000  26.0000\n",
       "..            ...         ...         ...      ...      ...      ...\n",
       "149         moist    0.218399    4.626832   Topic4  -8.4533  -1.0948\n",
       "117  moisturizing    0.220679    4.842280   Topic4  -8.4430  -1.1299\n",
       "235      aquaphor    0.335663   13.311544   Topic4  -8.0236  -1.7218\n",
       "166         crack    0.314580   18.104076   Topic4  -8.0884  -2.0941\n",
       "224        easily    0.290507   18.572440   Topic4  -8.1680  -2.1993\n",
       "\n",
       "[164 rows x 6 columns], token_table=      Topic      Freq             Term\n",
       "term                                  \n",
       "168       2  0.972368           absorb\n",
       "162       1  0.987495             also\n",
       "58        4  0.972341           always\n",
       "22        2  0.988645            amaze\n",
       "51        1  0.985497            apply\n",
       "...     ...       ...              ...\n",
       "20        2  0.961462           winter\n",
       "21        3  0.939518        wonderful\n",
       "142       4  0.982944             work\n",
       "30        2  0.984403  would_recommend\n",
       "31        1  0.996556             year\n",
       "\n",
       "[142 rows x 3 columns], R=30, lambda_step=0.01, plot_opts={'xlab': 'PC1', 'ylab': 'PC2'}, topic_order=[1, 2, 4, 3])"
      ]
     },
     "execution_count": 13,
     "metadata": {},
     "output_type": "execute_result"
    }
   ],
   "source": [
    "pyLDAvis.enable_notebook()\n",
    "LDAvis_prepared = gensimvis.prepare(optimal_model, corpus, id2word)\n",
    "LDAvis_prepared"
   ]
  }
 ],
 "metadata": {
  "kernelspec": {
   "display_name": "azureml_py38",
   "language": "python",
   "name": "conda-env-azureml_py38-py"
  },
  "language_info": {
   "codemirror_mode": {
    "name": "ipython",
    "version": 3
   },
   "file_extension": ".py",
   "mimetype": "text/x-python",
   "name": "python",
   "nbconvert_exporter": "python",
   "pygments_lexer": "ipython3",
   "version": "3.8.5"
  }
 },
 "nbformat": 4,
 "nbformat_minor": 5
}

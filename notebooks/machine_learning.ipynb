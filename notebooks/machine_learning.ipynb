{
 "cells": [
  {
   "cell_type": "markdown",
   "id": "254b391a",
   "metadata": {},
   "source": [
    "# Machine Learning with Python\n",
    "---\n",
    "---\n",
    "The Process:\n",
    "1. [Import dependencies and configure settings](#Step-1:-Import-dependencies-and-configure-settings)\n",
    "2. [Load pre-processed data](#Step-2:-Load-pre-processed-data)\n",
    "3. [Create instance of LDA model](#Step-3:-Create-instance-of-LDA-model)\n",
    "4. [Visualize model results](#Step-4:-Visualize-model-results)\n",
    "5. [Store the model instance](#Step-5:-Store-the-model-instance)\n",
    "\n",
    "![topic-modeling](../images/topic_model_intro.png \"Topic Modeling Intro\")"
   ]
  },
  {
   "cell_type": "markdown",
   "id": "82102f8c",
   "metadata": {},
   "source": [
    "---"
   ]
  },
  {
   "cell_type": "markdown",
   "id": "637b9526",
   "metadata": {},
   "source": [
    "## Step 1: Import dependencies and configure settings\n",
    "### Import packages, modules, objects, or functions into the current notebook"
   ]
  },
  {
   "cell_type": "markdown",
   "id": "716fbb91",
   "metadata": {},
   "source": [
    "***TIP: Avoid 'from PACKAGE import \\*' syntax as it clutters your namespace with objects you may not be aware of***"
   ]
  },
  {
   "cell_type": "code",
   "execution_count": null,
   "id": "6df8862f-a34b-4504-8131-55e5e57aff75",
   "metadata": {},
   "outputs": [],
   "source": [
    "# BEST PRACTICE: import built-in packages first\n",
    "# from PACKAGE import OBJECT lets us bring only what we need into our namespace\n",
    "from pprint import pprint\n",
    "from warnings import filterwarnings\n",
    "\n",
    "# BEST PRACTICE: import third-party packages second\n",
    "# from PACKAGE import OBJECT as ALIAS, renames the object in our namespace\n",
    "from gensim.models.ldamodel import LdaModel as gensim_LdaModel\n",
    "from joblib import load as joblib_load\n",
    "from pyLDAvis.gensim_models import prepare as pyLDAvis_prepare_gensim\n",
    "from seaborn import lineplot as seaborn_lineplot\n",
    "# aliases can also be used when importing an individual module from the package\n",
    "import matplotlib.pyplot as plt\n",
    "# aliases can be added when fully importing packages\n",
    "import pandas as pd\n",
    "\n",
    "# BEST PRACTICE: import custom packages last\n",
    "# for example: import custom_module as cm"
   ]
  },
  {
   "cell_type": "markdown",
   "id": "e79eb149",
   "metadata": {},
   "source": [
    "### Configure settings by using functions or methods (always check the documentation)\n",
    "Third-party packages used in this notebook:\n",
    "- [Gensim](https://radimrehurek.com/gensim/)\n",
    "- [Matplotlib](https://matplotlib.org/)\n",
    "- [Pandas](https://pandas.pydata.org/pandas-docs/version/1.2.4/user_guide/index.html)\n",
    "- [pyLDAvis](https://github.com/bmabey/pyLDAvis)\n",
    "- [Seaborn](https://seaborn.pydata.org/)"
   ]
  },
  {
   "cell_type": "code",
   "execution_count": null,
   "id": "ba4ec3d9",
   "metadata": {},
   "outputs": [],
   "source": [
    "# set python shell filter out warnings and avoid cluttering outputs\n",
    "filterwarnings(\n",
    "    'ignore'\n",
    ")"
   ]
  },
  {
   "cell_type": "code",
   "execution_count": null,
   "id": "0ad79088",
   "metadata": {},
   "outputs": [],
   "source": [
    "# set custom pandas package options by iterating through key-value pairs in a dictionary\n",
    "for option, value in { # dictionaries are denoted by curly brackets {} or the dict() function\n",
    "    'display.max_columns': 50,\n",
    "    'display.max_colwidth': None,\n",
    "    'display.max_info_columns': 50,\n",
    "    'display.max_rows': 20,\n",
    "    'display.precision': 4\n",
    "}.items(): # the .items() function of a dictionary lets us iterate through key, value pairs\n",
    "    # we can call a function on the variable we set for the objects we're iterating over\n",
    "    # in this case those variables are 'option', and 'value' and they represent\n",
    "    # the key, value pairs from the dictionary above\n",
    "    pd.set_option(\n",
    "        option, # this will be 'display.max_columns' etc..\n",
    "        value   # this will be 50, None, etc..\n",
    "    )"
   ]
  },
  {
   "cell_type": "code",
   "execution_count": null,
   "id": "8073f1bd",
   "metadata": {},
   "outputs": [],
   "source": [
    "# set pyLDAvis to render plots within IPython notebook cells\n",
    "pyLDAvis.enable_notebook()"
   ]
  },
  {
   "cell_type": "markdown",
   "id": "0d7d3e58",
   "metadata": {},
   "source": [
    "[Top](#Machine-Learning-with-Python)"
   ]
  },
  {
   "cell_type": "markdown",
   "id": "76145768",
   "metadata": {},
   "source": [
    "---"
   ]
  },
  {
   "cell_type": "markdown",
   "id": "d4d8eeb6",
   "metadata": {},
   "source": [
    "## Step 2: Load pre-processed data\n",
    "### Use [pickling](https://realpython.com/python-pickle-module/) to store python objects and resue them across notebooks "
   ]
  },
  {
   "cell_type": "code",
   "execution_count": null,
   "id": "ef19bb5d",
   "metadata": {},
   "outputs": [],
   "source": [
    "# import corpus and id2words objects by 'unpickling' them\n",
    "corpus = joblib_load(\n",
    "    '../data/cocoon_reviews_corpus.pkl'\n",
    ")\n",
    "id2word = joblib_load(\n",
    "    '../data/cocoon_reviews_id2word.pkl'\n",
    ")"
   ]
  },
  {
   "cell_type": "code",
   "execution_count": null,
   "id": "2ac38fa3-7ce1-4eaf-8438-ade06b2a996d",
   "metadata": {},
   "outputs": [],
   "source": [
    "optimal_model = gensim_LdaModel(corpus=corpus,\n",
    "                                           id2word=id2word,\n",
    "                                           num_topics=4, \n",
    "                                           random_state=100,\n",
    "                                           update_every=1,\n",
    "                                           chunksize=100,\n",
    "                                           passes=10,\n",
    "                                           alpha='auto',\n",
    "                                           per_word_topics=True)\n",
    "model_topics = optimal_model.show_topics(formatted=False)"
   ]
  },
  {
   "cell_type": "code",
   "execution_count": null,
   "id": "97d98286-844b-40c7-8e8f-84b869966b9b",
   "metadata": {},
   "outputs": [],
   "source": [
    "pprint(optimal_model.print_topics())"
   ]
  },
  {
   "cell_type": "code",
   "execution_count": null,
   "id": "b374057d-2a86-417a-a31f-f5aab450429a",
   "metadata": {
    "tags": []
   },
   "outputs": [],
   "source": [
    "top_n_words = 10\n",
    "topics = optimal_model.show_topics(\n",
    "    num_topics =4, num_words = top_n_words, formatted = False)\n",
    "\n",
    "for _, infos in topics:\n",
    "    probs = [prob for _, prob in infos]\n",
    "    seaborn_lineplot(range(top_n_words), probs, marker = '*')\n",
    "\n",
    "plt.xlabel('Word rank')\n",
    "plt.ylabel('Weights')\n",
    "plt.title('Weights of Top {} Words in each Topic'.format(top_n_words))\n",
    "plt.show()"
   ]
  },
  {
   "cell_type": "code",
   "execution_count": null,
   "id": "3bd79996-370b-49c3-9347-1ec302fda26a",
   "metadata": {},
   "outputs": [],
   "source": [
    "LDAvis_prepared = pyLDAvis_prepare_gensim(optimal_model, corpus, id2word)\n",
    "LDAvis_prepared"
   ]
  }
 ],
 "metadata": {
  "kernelspec": {
   "display_name": "Python 3.8.10 ('dbr-10_4ml-base')",
   "language": "python",
   "name": "python3"
  },
  "language_info": {
   "codemirror_mode": {
    "name": "ipython",
    "version": 3
   },
   "file_extension": ".py",
   "mimetype": "text/x-python",
   "name": "python",
   "nbconvert_exporter": "python",
   "pygments_lexer": "ipython3",
   "version": "3.8.10"
  },
  "vscode": {
   "interpreter": {
    "hash": "065e060c6089993c74c9bf4b911d37e59dadeed66bb03a666c87bc53eaee6720"
   }
  }
 },
 "nbformat": 4,
 "nbformat_minor": 5
}

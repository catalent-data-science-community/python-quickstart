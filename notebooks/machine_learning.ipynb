{
 "cells": [
  {
   "cell_type": "markdown",
   "id": "254b391a",
   "metadata": {},
   "source": [
    "# Machine Learning with Python\n",
    "---\n",
    "---\n",
    "The Process:\n",
    "1. [Import dependencies and configure settings](#Step-1:-Import-dependencies-and-configure-settings)\n",
    "2. [Load pre-processed data](#Step-2:-Load-pre-processed-data)\n",
    "3. [Create LDA model instance](#Step-3:-Create-LDA-model-instance)\n",
    "4. [Visualize the model results](#Step-4:-Visualize-the-model-results)"
   ]
  },
  {
   "cell_type": "markdown",
   "id": "82102f8c",
   "metadata": {},
   "source": [
    "---"
   ]
  },
  {
   "cell_type": "markdown",
   "id": "5add80fb",
   "metadata": {},
   "source": [
    "## Introduction to Topic Modeling\n",
    "**Topic Model**\n",
    ":  A type of statistical model for discovering the abstract \"topics\" that occur in a collection of documents, frequently used text-mining tool for discovery of hidden semantic structures in a text body\n",
    "\n",
    "![topic-modeling](../images/topic_model_intro.png \"Topic Modeling Intro\")"
   ]
  },
  {
   "cell_type": "markdown",
   "id": "82102f8c",
   "metadata": {},
   "source": [
    "---"
   ]
  },
  {
   "cell_type": "markdown",
   "id": "637b9526",
   "metadata": {},
   "source": [
    "## Step 1: Import dependencies and configure settings\n",
    "### Import packages, modules, objects, or functions into the current notebook"
   ]
  },
  {
   "cell_type": "markdown",
   "id": "716fbb91",
   "metadata": {},
   "source": [
    "***TIP: Avoid 'from PACKAGE import \\*' syntax as it clutters your namespace with objects you may not be aware of***"
   ]
  },
  {
   "cell_type": "code",
   "execution_count": 1,
   "id": "6df8862f-a34b-4504-8131-55e5e57aff75",
   "metadata": {},
   "outputs": [],
   "source": [
    "# BEST PRACTICE: import built-in packages first\n",
    "# from PACKAGE import OBJECT lets us bring only what we need into our namespace\n",
    "from pprint import pprint\n",
    "from warnings import filterwarnings\n",
    "\n",
    "# BEST PRACTICE: import third-party packages second\n",
    "# from PACKAGE import OBJECT as ALIAS, renames the object in our namespace\n",
    "from gensim.models.ldamodel import LdaModel as gensim_LdaModel\n",
    "from joblib import load as joblib_load\n",
    "from pyLDAvis import enable_notebook as pyLDAvis_enable_notebook\n",
    "from pyLDAvis.gensim_models import prepare as pyLDAvis_prepare_gensim\n",
    "from seaborn import lineplot as seaborn_lineplot\n",
    "# aliases can also be used when importing an individual module from the package\n",
    "import matplotlib.pyplot as plt\n",
    "# aliases can be added when fully importing packages\n",
    "import pandas as pd\n",
    "\n",
    "# BEST PRACTICE: import custom packages last\n",
    "# for example: import custom_module as cm"
   ]
  },
  {
   "cell_type": "markdown",
   "id": "e79eb149",
   "metadata": {},
   "source": [
    "### Configure settings by using functions or methods (always check the documentation)\n",
    "Third-party packages used in this notebook:\n",
    "- [Gensim](https://radimrehurek.com/gensim/)\n",
    "- [Matplotlib](https://matplotlib.org/)\n",
    "- [Pandas](https://pandas.pydata.org/pandas-docs/version/1.2.4/user_guide/index.html)\n",
    "- [pyLDAvis](https://github.com/bmabey/pyLDAvis)\n",
    "- [Seaborn](https://seaborn.pydata.org/)"
   ]
  },
  {
   "cell_type": "code",
   "execution_count": 2,
   "id": "ba4ec3d9",
   "metadata": {},
   "outputs": [],
   "source": [
    "# set python shell filter out warnings and avoid cluttering outputs\n",
    "filterwarnings(\n",
    "    'ignore'\n",
    ")"
   ]
  },
  {
   "cell_type": "code",
   "execution_count": 3,
   "id": "0ad79088",
   "metadata": {},
   "outputs": [],
   "source": [
    "# set custom pandas package options by iterating through key-value pairs in a dictionary\n",
    "for option, value in { # dictionaries are denoted by curly brackets {} or the dict() function\n",
    "    'display.max_columns': 50,\n",
    "    'display.max_colwidth': None,\n",
    "    'display.max_info_columns': 50,\n",
    "    'display.max_rows': 20,\n",
    "    'display.precision': 4\n",
    "}.items(): # the .items() function of a dictionary lets us iterate through key, value pairs\n",
    "    # we can call a function on the variable we set for the objects we're iterating over\n",
    "    # in this case those variables are 'option', and 'value' and they represent\n",
    "    # the key, value pairs from the dictionary above\n",
    "    pd.set_option(\n",
    "        option, # this will be 'display.max_columns' etc..\n",
    "        value   # this will be 50, None, etc..\n",
    "    )"
   ]
  },
  {
   "cell_type": "code",
   "execution_count": 4,
   "id": "8073f1bd",
   "metadata": {},
   "outputs": [],
   "source": [
    "# set pyLDAvis to render plots within IPython notebook cells\n",
    "pyLDAvis_enable_notebook()"
   ]
  },
  {
   "cell_type": "markdown",
   "id": "0d7d3e58",
   "metadata": {},
   "source": [
    "[Top](#Machine-Learning-with-Python)"
   ]
  },
  {
   "cell_type": "markdown",
   "id": "76145768",
   "metadata": {},
   "source": [
    "---"
   ]
  },
  {
   "cell_type": "markdown",
   "id": "d4d8eeb6",
   "metadata": {},
   "source": [
    "## Step 2: Load pre-processed data\n",
    "### Use [pickling](https://realpython.com/python-pickle-module/) to store python objects and reuse them across notebooks \n",
    "NOTE: Pickled files can only be 'unpickled' in an environment that matches the same dependencies as the one it was 'pickled' in, i.e. a colleague wouldn't be able to open pickled files if they don't have the same python environment on their machine  \n",
    "\n",
    "> **WARNING: one should NEVER unpickle files from an unknown source as they may contain malicious software**"
   ]
  },
  {
   "cell_type": "markdown",
   "id": "f0965319",
   "metadata": {},
   "source": [
    "### Topic Model Requirements\n",
    "\n",
    "**id2word**\n",
    ": A python dictionary mapping the numerical identifiers created during pre-processing to the actual words they represent\n",
    "\n",
    "**corpus**\n",
    ": A 'bag of words' representation of each review in the dataset, converting text to a python list of tuples *--immutable objects--* in the form of (Word Identifier, Word Frequency)\n",
    "\n",
    "NOTE: We use the Gensim package's functions to transform the text for us in the [Data Wrangling Notebook](./data_wrangling.ipynb)"
   ]
  },
  {
   "cell_type": "code",
   "execution_count": 5,
   "id": "ef19bb5d",
   "metadata": {},
   "outputs": [],
   "source": [
    "# import corpus and id2words objects by 'unpickling' them\n",
    "corpus = joblib_load(\n",
    "    '../data/cocoon_reviews_corpus.pkl'\n",
    ")\n",
    "id2word = joblib_load(\n",
    "    '../data/cocoon_reviews_id2word.pkl'\n",
    ")"
   ]
  },
  {
   "cell_type": "markdown",
   "id": "44ffbaef",
   "metadata": {},
   "source": [
    "### Text Pre-processing Procedure"
   ]
  },
  {
   "cell_type": "markdown",
   "id": "da0fbbff",
   "metadata": {},
   "source": [
    "**1. Tokenization**: Split raw text into small, indivisible units for processing.\n",
    "These can be:\n",
    "- words\n",
    "- n-grams\n",
    "- sentences\n",
    "- paragraphs\n",
    "\n",
    "> n-gram\n",
    ": A sequence of *n* number of words, i.e. a 2-gram, called a bigram, is a sequence of two words (“please turn”, “turn your”, or ”your homework”), and a 3-gram, called a trigram, is a three-word sequence of words (“please turn your”, or “turn your homework”)\n",
    "\n",
    "**2. Normalization**: Convert all text to lower case, expand contractions, remove numerals and accent marks\n",
    "\n",
    "> Contraction\n",
    ": A word made by shortening and combining two words, i.e. can't (can + not), don't (do + not), and I've (I + have)\n",
    "\n",
    "**3. Stopwords Removal**: Remove words below a certain length threshold or which contribute little overall meaning\n",
    "\n",
    "> Stopwords\n",
    ": Sets of commonly used words in given language, whose removal will increase overall meaning garnered from the text as only important or relevant words will remain\n",
    "\n",
    "**4. Stemming or Lemmatization**: Eliminate affixes from a word by removing common word endings ('-ing', '-ed'), or tag each word by the part of speech it represent and then capturing canonical forms based on a word's lemma (chosen representative)\n",
    "\n",
    "![stemming_vs_lemmatization](../images/stemming_vs_lemmatization.png)\n",
    "\n",
    "> Stemming\n",
    ": Cut off the end or the beginning of the word based on an algorithm, typically taking into account a list of common prefixes and suffixes that can be found in an inflected word in a given language\n",
    "\n",
    "> Lemmatization\n",
    ": Grouping words based on a morphological analysis of it's structure and definition. To do so it is necessary to have detailed dictionaries of words and their representatives, which the algorithms can look through to link the form back to a lemma.\n",
    "\n",
    "> Parth-of-Speech Tagging\n",
    ": A popular Natural Language Processing process which refers to categorizing words in a text (corpus) in correspondence with a particular part of speech, depending on the definition of the word and its context"
   ]
  },
  {
   "cell_type": "markdown",
   "id": "5eae8d1d",
   "metadata": {},
   "source": [
    "### Why is part of speech tagging important to do before stemming or lemmatization?\n",
    "![pos_example1](../images/pos_example1.png)\n",
    "![pos_example2](../images/pos_example2.png)"
   ]
  },
  {
   "cell_type": "markdown",
   "id": "0d7d3e58",
   "metadata": {},
   "source": [
    "[Top](#Machine-Learning-with-Python)"
   ]
  },
  {
   "cell_type": "markdown",
   "id": "76145768",
   "metadata": {},
   "source": [
    "---"
   ]
  },
  {
   "cell_type": "markdown",
   "id": "6103ac17",
   "metadata": {},
   "source": [
    "## Step 3: Create LDA model instance"
   ]
  },
  {
   "cell_type": "markdown",
   "id": "341d4836",
   "metadata": {},
   "source": [
    "**Latent Dirichlet Allocation (LDA)**  \n",
    "\n",
    "A ‘generative probabilistic model’, seeking to allow sets of observations to be described by unobserved groups that explain why some parts of the data are similar. \n",
    "\n",
    "For example, if observations are words collected into documents, it posits that each document is a mixture of a small number of topics and that each word’s presence is attributable to one of the document’s topics. In this case the documents are the reviews and the parts are the words and/or phrases (n-grams), with LDA serving as way of soft clustering the documents and parts. \n",
    "\n",
    "The fuzzy memberships drawn provide a more nuanced way of inferring topics, as each review can be made up of a combination of topics, versus simply attributing each review to one topic. This feature of LDA is key in this instance, as we are seeking to draw out terms indicative of constructive comments, with the assumption that customers might write about more than one topic in their reviews."
   ]
  },
  {
   "cell_type": "markdown",
   "id": "fe4a8f13",
   "metadata": {},
   "source": [
    "### *Optional*\n",
    "[Tuning the hyperparameters](https://towardsdatascience.com/parameters-and-hyperparameters-aa609601a9ac), which are parameters whose values control the learning process and determine the values of model parameters that a learning algorithm ends up learning, is out of scope for this tutorial but a critical part of any successful model\n",
    "\n",
    "For this Latent Dirichlet Allocation Model those would be:\n",
    "- num_topics\n",
    "- random_state\n",
    "- update_every\n",
    "- chunksize\n",
    "- passes\n",
    "- alpha\n",
    "- per_word_topics"
   ]
  },
  {
   "cell_type": "code",
   "execution_count": 6,
   "id": "2ac38fa3-7ce1-4eaf-8438-ade06b2a996d",
   "metadata": {},
   "outputs": [],
   "source": [
    "optimal_model = gensim_LdaModel(\n",
    "    corpus = corpus,\n",
    "    id2word = id2word,\n",
    "    num_topics = 4,\n",
    "    random_state = 100,\n",
    "    update_every = 1,\n",
    "    chunksize = 100,\n",
    "    passes = 10,\n",
    "    alpha = 'auto',\n",
    "    per_word_topics = True\n",
    ")\n",
    "model_topics = optimal_model.show_topics(\n",
    "    formatted = False\n",
    ")"
   ]
  },
  {
   "cell_type": "markdown",
   "id": "0d7d3e58",
   "metadata": {},
   "source": [
    "[Top](#Machine-Learning-with-Python)"
   ]
  },
  {
   "cell_type": "markdown",
   "id": "76145768",
   "metadata": {},
   "source": [
    "---"
   ]
  },
  {
   "cell_type": "markdown",
   "id": "650a023b",
   "metadata": {},
   "source": [
    "## Step 4: Visualize the model results"
   ]
  },
  {
   "cell_type": "code",
   "execution_count": 7,
   "id": "97d98286-844b-40c7-8e8f-84b869966b9b",
   "metadata": {},
   "outputs": [
    {
     "name": "stdout",
     "output_type": "stream",
     "text": [
      "[(0,\n",
      "  '0.136*\"use\" + 0.118*\"skin\" + 0.046*\"cream\" + 0.044*\"dry_skin\" + '\n",
      "  '0.041*\"love\" + 0.034*\"help\" + 0.033*\"smell\" + 0.025*\"really\" + 0.023*\"year\" '\n",
      "  '+ 0.020*\"day\"'),\n",
      " (1,\n",
      "  '0.054*\"excellent\" + 0.043*\"cream\" + 0.040*\"body\" + 0.038*\"dry\" + '\n",
      "  '0.038*\"time\" + 0.029*\"oil\" + 0.025*\"greasy\" + 0.024*\"hand\" + 0.023*\"skin\" + '\n",
      "  '0.022*\"face\"'),\n",
      " (2,\n",
      "  '0.374*\"good\" + 0.093*\"like\" + 0.055*\"one\" + 0.048*\"work\" + 0.045*\"balm\" + '\n",
      "  '0.043*\"little\" + 0.039*\"quality\" + 0.030*\"price\" + 0.024*\"son\" + '\n",
      "  '0.016*\"always\"'),\n",
      " (3,\n",
      "  '0.221*\"product\" + 0.078*\"great\" + 0.063*\"recommend\" + 0.053*\"buy\" + '\n",
      "  '0.053*\"nice\" + 0.051*\"available\" + 0.030*\"happy\" + 0.028*\"perfect\" + '\n",
      "  '0.021*\"eczema\" + 0.021*\"soothe\"')]\n"
     ]
    }
   ],
   "source": [
    "pprint(optimal_model.print_topics())"
   ]
  },
  {
   "cell_type": "code",
   "execution_count": 8,
   "id": "b374057d-2a86-417a-a31f-f5aab450429a",
   "metadata": {
    "tags": []
   },
   "outputs": [
    {
     "data": {
      "image/png": "[encoded data removed]",
      "text/plain": [
       "<Figure size 432x288 with 1 Axes>"
      ]
     },
     "metadata": {
      "needs_background": "light"
     },
     "output_type": "display_data"
    }
   ],
   "source": [
    "top_n_words = 10\n",
    "topics = optimal_model.show_topics(\n",
    "    num_topics =4, num_words = top_n_words, formatted = False)\n",
    "\n",
    "for _, infos in topics:\n",
    "    probs = [prob for _, prob in infos]\n",
    "    seaborn_lineplot(range(top_n_words), probs, marker = '*')\n",
    "\n",
    "plt.xlabel('Word rank')\n",
    "plt.ylabel('Weights')\n",
    "plt.title('Weights of Top {} Words in each Topic'.format(top_n_words))\n",
    "plt.show()"
   ]
  },
  {
   "cell_type": "code",
   "execution_count": 9,
   "id": "3bd79996-370b-49c3-9347-1ec302fda26a",
   "metadata": {},
   "outputs": [
    {
     "data": {
      "text/html": [
       "\n",
       "<link rel=\"stylesheet\" type=\"text/css\" href=\"https://cdn.jsdelivr.net/gh/bmabey/pyLDAvis@3.3.1/pyLDAvis/js/ldavis.v1.0.0.css\">\n",
       "\n",
       "\n",
       "<div id=\"ldavis_el58941404133289656963172181781\"></div>\n",
       "<script type=\"text/javascript\">\n",
       "\n",
       "var ldavis_el58941404133289656963172181781_data = {\"mdsDat\": {\"x\": [0.24782896244685843, 0.21672750187040982, -0.25039771384746234, -0.21415875046980629], \"y\": [-0.04892693152909457, 0.02693833082370125, -0.30343817149614033, 0.32542677220153376], \"topics\": [1, 2, 3, 4], \"cluster\": [1, 1, 1, 1], \"Freq\": [35.83059575040595, 29.304892664662223, 20.757593612051675, 14.106917972880154]}, \"tinfo\": {\"Term\": [\"good\", \"product\", \"use\", \"skin\", \"like\", \"great\", \"recommend\", \"excellent\", \"buy\", \"nice\", \"available\", \"one\", \"love\", \"body\", \"work\", \"time\", \"dry_skin\", \"balm\", \"cream\", \"help\", \"little\", \"smell\", \"dry\", \"quality\", \"oil\", \"happy\", \"perfect\", \"really\", \"greasy\", \"price\", \"use\", \"love\", \"help\", \"smell\", \"really\", \"year\", \"day\", \"make\", \"feel\", \"find\", \"also\", \"apply\", \"atopic\", \"every\", \"family\", \"smooth\", \"need\", \"try\", \"even\", \"first\", \"think\", \"friend\", \"itch\", \"baby\", \"foot\", \"leave\", \"moisturizer\", \"itchy\", \"well\", \"difference\", \"dry_skin\", \"skin\", \"cream\", \"soft\", \"excellent\", \"body\", \"time\", \"oil\", \"greasy\", \"hand\", \"face\", \"best\", \"lotion\", \"get\", \"much\", \"light\", \"lovely\", \"child\", \"absorb\", \"come\", \"keep\", \"last\", \"take\", \"quickly\", \"leaf\", \"scent\", \"amaze\", \"moisturize\", \"many\", \"winter\", \"sure\", \"sensitive_skin\", \"would_recommend\", \"since\", \"tube\", \"dry\", \"long\", \"cream\", \"skin\", \"product\", \"great\", \"buy\", \"available\", \"nice\", \"happy\", \"perfect\", \"moisturise\", \"super\", \"soothe\", \"buy_month_ago\", \"definitely\", \"look\", \"week\", \"say\", \"texture\", \"fragrance\", \"result\", \"seem\", \"highly\", \"easy\", \"start\", \"daily\", \"wonderful\", \"high\", \"easily\", \"want\", \"everyone\", \"expensive\", \"sticky\", \"recommend\", \"eczema\", \"good\", \"like\", \"one\", \"work\", \"quality\", \"little\", \"price\", \"balm\", \"son\", \"always\", \"fast\", \"thing\", \"delivery\", \"everything\", \"ship\", \"see\", \"service\", \"purchase\", \"dermatitis\", \"morning\", \"back\", \"everyday\", \"night\", \"still\", \"second\", \"kid\", \"hydration\", \"favorite\", \"moist\", \"moisturizing\", \"aquaphor\", \"crack\", \"easily\"], \"Freq\": [383.0, 334.0, 355.0, 354.0, 96.0, 118.0, 100.0, 115.0, 80.0, 80.0, 77.0, 56.0, 107.0, 85.0, 49.0, 81.0, 122.0, 47.0, 211.0, 90.0, 44.0, 86.0, 89.0, 40.0, 62.0, 45.0, 42.0, 66.0, 54.0, 31.0, 354.13857087904154, 107.00365048465666, 89.67281701317965, 85.94177972551742, 65.69260742251996, 59.522267954080625, 52.60481955382199, 50.40645818606813, 46.81222204475381, 40.996879273168425, 39.81381786089061, 39.87583783783531, 34.15550851742985, 34.62207719718972, 32.4993718166282, 33.98290042467726, 34.66688192323709, 32.111774223051036, 30.54195853185151, 26.483795127370527, 25.897633282206144, 23.578515556419568, 25.390272890966184, 22.583590858480783, 24.532452254122244, 22.043491441393016, 20.956279524996642, 22.37240839019559, 41.251099868696926, 19.761469867174036, 114.08781346835168, 306.2199587794339, 118.42518430000563, 38.754852138815636, 114.8904412265047, 85.11589973351923, 80.78373121816145, 61.990541795996904, 53.974716394583744, 51.18516464783173, 46.09292352143474, 42.26146339753043, 40.2768282565017, 35.908306494856674, 34.13946003787387, 30.398825552632694, 29.72710112099051, 26.992160504333306, 29.098698533059302, 27.386930755600343, 25.964393464671975, 25.36755965369329, 26.48377991702453, 27.15314184351055, 25.926365455920838, 24.31029301105849, 23.6113997701204, 21.587289784129126, 21.865667017106727, 21.161487869078456, 21.874439204876182, 20.39658520345403, 19.648033768985954, 19.362376769700806, 20.728604384461526, 80.86457963286809, 29.590521764600783, 92.19497202083843, 48.239921432927495, 333.4207578536716, 118.00480774053992, 79.8884379555006, 77.16006009404393, 79.45755573982207, 44.534706587083555, 41.501894969371534, 28.908622365626712, 26.99474273444061, 31.146079210298034, 25.02759667217385, 27.3861363049914, 27.878455597180174, 23.865253569157606, 26.94782750609594, 21.964563493609123, 21.24889918743528, 21.522333627242045, 22.241740706734664, 18.715825021783157, 18.29563764749339, 17.69648786825824, 15.889983433813818, 14.251482631424164, 13.092119988931461, 17.673506173123815, 12.619004521284152, 11.71345062482108, 12.7840740212173, 12.040878009284068, 94.6867852548654, 31.307703561797467, 383.23728543087265, 95.44419562744055, 55.922714705224934, 49.11760443163068, 39.673123697604765, 43.58536228124115, 30.935561243594755, 45.8902828545707, 25.07583977434895, 16.839352983614837, 15.690982872979344, 16.1571360465889, 14.054363860564939, 13.797048186493589, 13.694583886361988, 13.201491078891303, 11.707783026839227, 11.671706090474627, 12.30171627635851, 12.898552816210682, 11.406615551821384, 8.787256136884952, 11.28051180884458, 7.957670262473872, 6.718097431543858, 5.911346226597834, 3.236452439468235, 0.22027880573626693, 0.218398760069206, 0.22067897118979604, 0.3356628909624447, 0.3145798975813056, 0.2905025580765642], \"Total\": [383.0, 334.0, 355.0, 354.0, 96.0, 118.0, 100.0, 115.0, 80.0, 80.0, 77.0, 56.0, 107.0, 85.0, 49.0, 81.0, 122.0, 47.0, 211.0, 90.0, 44.0, 86.0, 89.0, 40.0, 62.0, 45.0, 42.0, 66.0, 54.0, 31.0, 355.89978580812164, 107.68216592464123, 90.37284376594515, 86.64793223563956, 66.37470599658108, 60.207526659203026, 53.284475926149895, 51.102717341804976, 47.497144151763635, 41.69585057187292, 40.50665879620434, 40.58879773075515, 34.83958455530788, 35.319614666680344, 33.1604921101489, 34.6742513149579, 35.404267344665534, 32.79801023206372, 31.231627407222724, 27.181192847234044, 26.602731691755338, 24.253205082339953, 26.124366198188127, 23.253351834881215, 25.26438104907368, 22.749686317719988, 21.629051485616248, 23.099141550559608, 42.649711633971926, 20.473189240817664, 122.63998979549525, 354.92645940707524, 211.08934123099425, 47.87138091972852, 115.55791203931031, 85.77927605181401, 81.4745838634503, 62.708418431987845, 54.686478104853116, 51.9104913793252, 46.76448169959345, 42.915916135485126, 40.93161537125994, 36.617639674534956, 34.819665643911065, 31.089867220400755, 30.42285762115092, 27.660639964481586, 29.824094731326, 28.08480213846052, 26.639404392217745, 26.03884787263546, 27.185800110967495, 27.87474241906119, 26.625718327218674, 24.981937401998103, 24.27562696602375, 22.241600063624794, 22.552121117538103, 21.841716853246314, 22.59694253259599, 21.073022890239017, 20.316872020690802, 20.039909758895988, 21.4803440759298, 89.75915727787672, 35.37457510503842, 211.08934123099425, 354.92645940707524, 334.063102634978, 118.6384720018084, 80.53190820052099, 77.78441494675161, 80.11367474501517, 45.15828838769155, 42.145127442076465, 29.589714311310427, 27.638336524623003, 31.92502534100061, 25.659278749724642, 28.089895797570342, 28.605821077810454, 24.549321038790325, 27.740134843653838, 22.61572265688861, 21.92269984730202, 22.23510642651255, 22.985961039270165, 19.380363851286223, 18.965117925203813, 18.370701486379623, 16.533743262550797, 14.901155706793332, 13.749032467014475, 18.572326256294218, 13.287546627446908, 12.34556197490342, 13.477247773569825, 12.713802114161995, 100.54255354291205, 52.39804905564272, 383.8834208736807, 96.42925289499695, 56.58929125509058, 49.85022885929411, 40.31715362963797, 44.308393972697985, 31.579003035249567, 47.11140332189307, 25.75868186305871, 17.483563192248575, 16.350835503387692, 16.84914566387561, 14.697481288624775, 14.465041332428964, 14.375693327790602, 13.891880124420311, 12.359065027423142, 12.337034236408554, 13.024397613247055, 13.739275369172262, 12.212594203278758, 9.422905767030073, 12.164029439673726, 8.631200301145146, 7.367191286009608, 6.54922158361345, 3.908404130761346, 4.233865082808858, 4.626843185303272, 4.842276654979074, 13.311579730119876, 18.104128455739158, 18.572326256294218], \"Category\": [\"Default\", \"Default\", \"Default\", \"Default\", \"Default\", \"Default\", \"Default\", \"Default\", \"Default\", \"Default\", \"Default\", \"Default\", \"Default\", \"Default\", \"Default\", \"Default\", \"Default\", \"Default\", \"Default\", \"Default\", \"Default\", \"Default\", \"Default\", \"Default\", \"Default\", \"Default\", \"Default\", \"Default\", \"Default\", \"Default\", \"Topic1\", \"Topic1\", \"Topic1\", \"Topic1\", \"Topic1\", \"Topic1\", \"Topic1\", \"Topic1\", \"Topic1\", \"Topic1\", \"Topic1\", \"Topic1\", \"Topic1\", \"Topic1\", \"Topic1\", \"Topic1\", \"Topic1\", \"Topic1\", \"Topic1\", \"Topic1\", \"Topic1\", \"Topic1\", \"Topic1\", \"Topic1\", \"Topic1\", \"Topic1\", \"Topic1\", \"Topic1\", \"Topic1\", \"Topic1\", \"Topic1\", \"Topic1\", \"Topic1\", \"Topic1\", \"Topic2\", \"Topic2\", \"Topic2\", \"Topic2\", \"Topic2\", \"Topic2\", \"Topic2\", \"Topic2\", \"Topic2\", \"Topic2\", \"Topic2\", \"Topic2\", \"Topic2\", \"Topic2\", \"Topic2\", \"Topic2\", \"Topic2\", \"Topic2\", \"Topic2\", \"Topic2\", \"Topic2\", \"Topic2\", \"Topic2\", \"Topic2\", \"Topic2\", \"Topic2\", \"Topic2\", \"Topic2\", \"Topic2\", \"Topic2\", \"Topic2\", \"Topic2\", \"Topic2\", \"Topic2\", \"Topic2\", \"Topic3\", \"Topic3\", \"Topic3\", \"Topic3\", \"Topic3\", \"Topic3\", \"Topic3\", \"Topic3\", \"Topic3\", \"Topic3\", \"Topic3\", \"Topic3\", \"Topic3\", \"Topic3\", \"Topic3\", \"Topic3\", \"Topic3\", \"Topic3\", \"Topic3\", \"Topic3\", \"Topic3\", \"Topic3\", \"Topic3\", \"Topic3\", \"Topic3\", \"Topic3\", \"Topic3\", \"Topic3\", \"Topic3\", \"Topic3\", \"Topic3\", \"Topic3\", \"Topic4\", \"Topic4\", \"Topic4\", \"Topic4\", \"Topic4\", \"Topic4\", \"Topic4\", \"Topic4\", \"Topic4\", \"Topic4\", \"Topic4\", \"Topic4\", \"Topic4\", \"Topic4\", \"Topic4\", \"Topic4\", \"Topic4\", \"Topic4\", \"Topic4\", \"Topic4\", \"Topic4\", \"Topic4\", \"Topic4\", \"Topic4\", \"Topic4\", \"Topic4\", \"Topic4\", \"Topic4\", \"Topic4\", \"Topic4\", \"Topic4\", \"Topic4\", \"Topic4\"], \"logprob\": [30.0, 29.0, 28.0, 27.0, 26.0, 25.0, 24.0, 23.0, 22.0, 21.0, 20.0, 19.0, 18.0, 17.0, 16.0, 15.0, 14.0, 13.0, 12.0, 11.0, 10.0, 9.0, 8.0, 7.0, 6.0, 5.0, 4.0, 3.0, 2.0, 1.0, -1.9944, -3.1912, -3.3679, -3.4104, -3.6791, -3.7777, -3.9012, -3.9439, -4.0179, -4.1505, -4.1798, -4.1783, -4.3331, -4.3196, -4.3828, -4.3382, -4.3183, -4.3948, -4.4449, -4.5875, -4.6099, -4.7037, -4.6297, -4.7468, -4.664, -4.771, -4.8216, -4.7562, -4.1444, -4.8803, -3.1271, -2.1397, -3.0898, -4.2068, -2.919, -3.219, -3.2712, -3.536, -3.6745, -3.7275, -3.8323, -3.9191, -3.9672, -4.082, -4.1325, -4.2486, -4.2709, -4.3674, -4.2923, -4.3529, -4.4063, -4.4295, -4.3865, -4.3615, -4.4077, -4.4721, -4.5013, -4.5909, -4.5781, -4.6108, -4.5777, -4.6476, -4.685, -4.6997, -4.6315, -3.2702, -4.2755, -3.1391, -3.7868, -1.5087, -2.5474, -2.9375, -2.9723, -2.9429, -3.5219, -3.5924, -3.954, -4.0225, -3.8795, -4.0982, -4.0081, -3.9903, -4.1457, -4.0242, -4.2287, -4.2618, -4.2491, -4.2162, -4.3888, -4.4115, -4.4448, -4.5525, -4.6613, -4.7461, -4.4461, -4.7829, -4.8574, -4.77, -4.8298, -2.7676, -3.8743, -0.9833, -2.3734, -2.9079, -3.0377, -3.2512, -3.1572, -3.5, -3.1057, -3.71, -4.1082, -4.1788, -4.1495, -4.289, -4.3075, -4.3149, -4.3516, -4.4717, -4.4747, -4.4222, -4.3748, -4.4977, -4.7586, -4.5088, -4.8578, -5.0271, -5.155, -5.7574, -8.4448, -8.4533, -8.443, -8.0236, -8.0884, -8.168], \"loglift\": [30.0, 29.0, 28.0, 27.0, 26.0, 25.0, 24.0, 23.0, 22.0, 21.0, 20.0, 19.0, 18.0, 17.0, 16.0, 15.0, 14.0, 13.0, 12.0, 11.0, 10.0, 9.0, 8.0, 7.0, 6.0, 5.0, 4.0, 3.0, 2.0, 1.0, 1.0214, 1.02, 1.0186, 1.0182, 1.016, 1.0149, 1.0135, 1.0126, 1.0118, 1.0095, 1.0091, 1.0086, 1.0065, 1.0064, 1.0062, 1.0062, 1.0053, 1.0052, 1.004, 1.0004, 0.9995, 0.9982, 0.9979, 0.9971, 0.997, 0.9948, 0.9948, 0.9944, 0.993, 0.991, 0.9541, 0.8788, 0.4484, 0.8151, 1.2216, 1.2197, 1.2189, 1.2159, 1.2143, 1.2133, 1.213, 1.212, 1.2113, 1.2079, 1.2077, 1.2049, 1.2043, 1.203, 1.2028, 1.2023, 1.2018, 1.2013, 1.2013, 1.2012, 1.2008, 1.2002, 1.1997, 1.1976, 1.1965, 1.1958, 1.1949, 1.1948, 1.1939, 1.193, 1.1918, 1.1231, 1.0489, 0.399, -0.7683, 1.5703, 1.5669, 1.5642, 1.5642, 1.564, 1.5584, 1.5569, 1.549, 1.5487, 1.5476, 1.5473, 1.5469, 1.5465, 1.544, 1.5433, 1.543, 1.541, 1.5397, 1.5393, 1.5374, 1.5363, 1.5349, 1.5325, 1.5277, 1.5233, 1.5227, 1.5206, 1.5197, 1.5195, 1.5179, 1.5123, 1.0573, 1.9568, 1.9482, 1.9467, 1.9437, 1.9424, 1.9421, 1.9379, 1.9322, 1.9316, 1.921, 1.9173, 1.9166, 1.9138, 1.9112, 1.91, 1.9075, 1.9044, 1.9031, 1.9014, 1.8954, 1.8902, 1.8887, 1.8831, 1.8773, 1.8663, 1.856, 1.7699, -0.9975, -1.0948, -1.1299, -1.7218, -2.0942, -2.1993]}, \"token.table\": {\"Topic\": [2, 1, 4, 2, 1, 1, 1, 3, 1, 4, 4, 2, 2, 3, 3, 2, 2, 1, 1, 2, 3, 1, 3, 4, 4, 1, 1, 2, 1, 2, 3, 3, 1, 3, 1, 1, 4, 3, 4, 2, 3, 2, 1, 4, 3, 1, 1, 1, 1, 3, 1, 2, 4, 2, 3, 2, 3, 1, 3, 3, 4, 1, 1, 2, 4, 2, 2, 1, 2, 2, 4, 4, 1, 2, 3, 2, 1, 2, 1, 2, 1, 3, 2, 1, 2, 4, 2, 1, 3, 4, 2, 4, 3, 4, 3, 4, 4, 2, 1, 1, 3, 3, 3, 2, 4, 4, 3, 2, 4, 4, 2, 1, 2, 1, 1, 1, 2, 4, 3, 3, 3, 4, 3, 2, 2, 3, 4, 1, 2, 1, 2, 1, 2, 3, 3, 1, 3, 2, 3, 4, 2, 1], \"Freq\": [0.9723681560580478, 0.9874919627720118, 0.9723418397650792, 0.98864593831461, 0.9854935902595361, 0.901470767804351, 0.9759014188594861, 0.9899155255292645, 0.9891047176045745, 0.9007095312351238, 0.9764090380772718, 0.9786578915711927, 0.9909153342429319, 0.993395062747097, 0.9743064192818858, 0.9761162444061345, 0.9613740508794631, 0.9390123386254952, 0.5590050132890085, 0.4358344171405829, 0.967717941782746, 0.9946611856229164, 0.9611997208738449, 0.9525441621643977, 0.9213477932979299, 0.9768873703431481, 0.08912739649764727, 0.9024148895386785, 0.9295499794976939, 0.0652315775086101, 0.9691839219063765, 0.9491108924811265, 0.40077828046039665, 0.5916250806796332, 0.9925835626750222, 0.990950788401951, 0.9551193891262519, 0.9720092146792594, 0.9678506737905826, 0.9951720134998586, 0.9645886325169628, 0.983652514219994, 0.9650037729749575, 0.9785432675097855, 0.9447632179498489, 0.9895331780332908, 0.983311275286891, 0.9565437450124915, 0.9895354234659403, 0.957911212864798, 0.9895599331519146, 0.9831327283783263, 0.9976987261610045, 0.9874470229452901, 0.9946183393039767, 0.982460359069384, 0.9964948098490223, 0.995874382719318, 0.9455210780241089, 0.9803737507610839, 0.767576714083456, 0.9569610152583871, 0.9524163463757388, 0.9759977969926183, 0.9161394103709003, 0.960103923271997, 0.9764994762008347, 0.967046300891804, 0.9649446164348493, 0.010370297082866678, 0.9851782228723344, 0.9930398295887679, 0.14134445389530198, 0.8480667233718119, 0.9788217553286597, 0.9772397115821119, 0.9936650055393702, 0.9861006606803123, 0.9784215517458816, 0.9755179960829168, 0.8645203305583427, 0.9800702938492037, 0.9891374692947599, 0.9709163628356713, 0.8260577172696231, 0.9461925502395109, 0.976459692281554, 0.9885813949846798, 0.986098818353299, 0.9043056048617267, 0.9887029772126021, 0.9895865234919766, 0.9965564834920496, 0.9816649362045007, 0.9968176592188942, 0.9726810974217845, 0.9921335312370657, 0.9686188160625647, 0.9943546869103965, 0.049730187107949034, 0.9448735550510317, 0.9894263412999806, 0.9733189889730056, 0.960694105257042, 0.9501585785200244, 0.9357984580609439, 0.9571059466434443, 0.9490807324688079, 0.9709472337408677, 0.9738660724582706, 0.9481080617923263, 0.8621504311377358, 0.13523928331572327, 0.9925222423787621, 0.9805546972353217, 0.8146829953661836, 0.18800376816142697, 0.9705465571921691, 0.9710250710494309, 0.9798210489319382, 0.9438561251974431, 0.9268699278058231, 0.9769039455737755, 0.9735830397526168, 0.9563816365114407, 0.9727745751824974, 0.9496030433343472, 0.9773432405837429, 0.9941750685803354, 0.9756689437433136, 0.9776379710570811, 0.9946620203667504, 0.0028097797185501427, 0.978359690053471, 0.9776237787626654, 0.9613195125882662, 0.023446817380201615, 0.9614628804639407, 0.9395244419610687, 0.9829443338827201, 0.9844035036314597, 0.9965531442542441], \"Term\": [\"absorb\", \"also\", \"always\", \"amaze\", \"apply\", \"aquaphor\", \"atopic\", \"available\", \"baby\", \"back\", \"balm\", \"best\", \"body\", \"buy\", \"buy_month_ago\", \"child\", \"come\", \"crack\", \"cream\", \"cream\", \"daily\", \"day\", \"definitely\", \"delivery\", \"dermatitis\", \"difference\", \"dry\", \"dry\", \"dry_skin\", \"dry_skin\", \"easily\", \"easy\", \"eczema\", \"eczema\", \"even\", \"every\", \"everyday\", \"everyone\", \"everything\", \"excellent\", \"expensive\", \"face\", \"family\", \"fast\", \"favorite\", \"feel\", \"find\", \"first\", \"foot\", \"fragrance\", \"friend\", \"get\", \"good\", \"greasy\", \"great\", \"hand\", \"happy\", \"help\", \"high\", \"highly\", \"hydration\", \"itch\", \"itchy\", \"keep\", \"kid\", \"last\", \"leaf\", \"leave\", \"light\", \"like\", \"like\", \"little\", \"long\", \"long\", \"look\", \"lotion\", \"love\", \"lovely\", \"make\", \"many\", \"moist\", \"moisturise\", \"moisturize\", \"moisturizer\", \"moisturizing\", \"morning\", \"much\", \"need\", \"nice\", \"night\", \"oil\", \"one\", \"perfect\", \"price\", \"product\", \"purchase\", \"quality\", \"quickly\", \"really\", \"recommend\", \"recommend\", \"result\", \"say\", \"scent\", \"second\", \"see\", \"seem\", \"sensitive_skin\", \"service\", \"ship\", \"since\", \"skin\", \"skin\", \"smell\", \"smooth\", \"soft\", \"soft\", \"son\", \"soothe\", \"start\", \"sticky\", \"still\", \"super\", \"sure\", \"take\", \"texture\", \"thing\", \"think\", \"time\", \"try\", \"tube\", \"use\", \"use\", \"want\", \"week\", \"well\", \"well\", \"winter\", \"wonderful\", \"work\", \"would_recommend\", \"year\"]}, \"R\": 30, \"lambda.step\": 0.01, \"plot.opts\": {\"xlab\": \"PC1\", \"ylab\": \"PC2\"}, \"topic.order\": [1, 2, 4, 3]};\n",
       "\n",
       "function LDAvis_load_lib(url, callback){\n",
       "  var s = document.createElement('script');\n",
       "  s.src = url;\n",
       "  s.async = true;\n",
       "  s.onreadystatechange = s.onload = callback;\n",
       "  s.onerror = function(){console.warn(\"failed to load library \" + url);};\n",
       "  document.getElementsByTagName(\"head\")[0].appendChild(s);\n",
       "}\n",
       "\n",
       "if(typeof(LDAvis) !== \"undefined\"){\n",
       "   // already loaded: just create the visualization\n",
       "   !function(LDAvis){\n",
       "       new LDAvis(\"#\" + \"ldavis_el58941404133289656963172181781\", ldavis_el58941404133289656963172181781_data);\n",
       "   }(LDAvis);\n",
       "}else if(typeof define === \"function\" && define.amd){\n",
       "   // require.js is available: use it to load d3/LDAvis\n",
       "   require.config({paths: {d3: \"https://d3js.org/d3.v5\"}});\n",
       "   require([\"d3\"], function(d3){\n",
       "      window.d3 = d3;\n",
       "      LDAvis_load_lib(\"https://cdn.jsdelivr.net/gh/bmabey/pyLDAvis@3.3.1/pyLDAvis/js/ldavis.v3.0.0.js\", function(){\n",
       "        new LDAvis(\"#\" + \"ldavis_el58941404133289656963172181781\", ldavis_el58941404133289656963172181781_data);\n",
       "      });\n",
       "    });\n",
       "}else{\n",
       "    // require.js not available: dynamically load d3 & LDAvis\n",
       "    LDAvis_load_lib(\"https://d3js.org/d3.v5.js\", function(){\n",
       "         LDAvis_load_lib(\"https://cdn.jsdelivr.net/gh/bmabey/pyLDAvis@3.3.1/pyLDAvis/js/ldavis.v3.0.0.js\", function(){\n",
       "                 new LDAvis(\"#\" + \"ldavis_el58941404133289656963172181781\", ldavis_el58941404133289656963172181781_data);\n",
       "            })\n",
       "         });\n",
       "}\n",
       "</script>"
      ],
      "text/plain": [
       "PreparedData(topic_coordinates=            x       y  topics  cluster     Freq\n",
       "topic                                          \n",
       "0      0.2478 -0.0489       1        1  35.8306\n",
       "1      0.2167  0.0269       2        1  29.3049\n",
       "3     -0.2504 -0.3034       3        1  20.7576\n",
       "2     -0.2142  0.3254       4        1  14.1069, topic_info=             Term      Freq     Total Category  logprob  loglift\n",
       "32           good  383.0000  383.0000  Default  30.0000  30.0000\n",
       "18        product  334.0000  334.0000  Default  29.0000  29.0000\n",
       "13            use  355.0000  355.0000  Default  28.0000  28.0000\n",
       "19           skin  354.0000  354.0000  Default  27.0000  27.0000\n",
       "6            like   96.0000   96.0000  Default  26.0000  26.0000\n",
       "..            ...       ...       ...      ...      ...      ...\n",
       "149         moist    0.2184    4.6268   Topic4  -8.4533  -1.0948\n",
       "117  moisturizing    0.2207    4.8423   Topic4  -8.4430  -1.1299\n",
       "235      aquaphor    0.3357   13.3116   Topic4  -8.0236  -1.7218\n",
       "166         crack    0.3146   18.1041   Topic4  -8.0884  -2.0942\n",
       "224        easily    0.2905   18.5723   Topic4  -8.1680  -2.1993\n",
       "\n",
       "[164 rows x 6 columns], token_table=      Topic    Freq             Term\n",
       "term                                \n",
       "168       2  0.9724           absorb\n",
       "162       1  0.9875             also\n",
       "58        4  0.9723           always\n",
       "22        2  0.9886            amaze\n",
       "51        1  0.9855            apply\n",
       "...     ...     ...              ...\n",
       "20        2  0.9615           winter\n",
       "21        3  0.9395        wonderful\n",
       "142       4  0.9829             work\n",
       "30        2  0.9844  would_recommend\n",
       "31        1  0.9966             year\n",
       "\n",
       "[142 rows x 3 columns], R=30, lambda_step=0.01, plot_opts={'xlab': 'PC1', 'ylab': 'PC2'}, topic_order=[1, 2, 4, 3])"
      ]
     },
     "execution_count": 9,
     "metadata": {},
     "output_type": "execute_result"
    }
   ],
   "source": [
    "LDAvis_prepared = pyLDAvis_prepare_gensim(optimal_model, corpus, id2word)\n",
    "LDAvis_prepared"
   ]
  },
  {
   "cell_type": "markdown",
   "id": "0d7d3e58",
   "metadata": {},
   "source": [
    "[Top](#Machine-Learning-with-Python)"
   ]
  },
  {
   "cell_type": "markdown",
   "id": "76145768",
   "metadata": {},
   "source": [
    "---"
   ]
  }
 ],
 "metadata": {
  "kernelspec": {
   "display_name": "Python 3.8.10 ('dbr-10_4ml-base')",
   "language": "python",
   "name": "python3"
  },
  "language_info": {
   "codemirror_mode": {
    "name": "ipython",
    "version": 3
   },
   "file_extension": ".py",
   "mimetype": "text/x-python",
   "name": "python",
   "nbconvert_exporter": "python",
   "pygments_lexer": "ipython3",
   "version": "3.8.10"
  },
  "vscode": {
   "interpreter": {
    "hash": "065e060c6089993c74c9bf4b911d37e59dadeed66bb03a666c87bc53eaee6720"
   }
  }
 },
 "nbformat": 4,
 "nbformat_minor": 5
}

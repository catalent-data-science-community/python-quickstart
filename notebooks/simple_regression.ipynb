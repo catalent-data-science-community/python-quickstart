{
 "cells": [
  {
   "cell_type": "code",
   "execution_count": null,
   "id": "c21c313f-e4c4-4ffa-88b1-fced01669747",
   "metadata": {},
   "outputs": [],
   "source": [
    "# simple regression example from https://www.datacamp.com/tutorial/essentials-linear-regression-python\n",
    "import statsmodels.api as sm\n",
    "from sklearn import datasets\n",
    "\n",
    "# Pandas and NumPy import\n",
    "import numpy as np\n",
    "import pandas as pd\n",
    "\n",
    "from sklearn import linear_model"
   ]
  },
  {
   "cell_type": "code",
   "execution_count": null,
   "id": "3ac01d2c-6d82-4eff-b9d3-7795103a148a",
   "metadata": {},
   "outputs": [],
   "source": [
    "data = datasets.load_boston()\n",
    "data"
   ]
  },
  {
   "cell_type": "code",
   "execution_count": null,
   "id": "64b191c8-003c-45b2-98c5-d92520796160",
   "metadata": {},
   "outputs": [],
   "source": [
    "print (data.DESCR)"
   ]
  },
  {
   "cell_type": "code",
   "execution_count": null,
   "id": "91ec09bb-58db-48d1-96be-027b2fac6832",
   "metadata": {},
   "outputs": [],
   "source": [
    "# Set the features  \n",
    "df = pd.DataFrame(data.data, columns=data.feature_names)\n",
    "\n",
    "# Set the target\n",
    "target = pd.DataFrame(data.target, columns=[\"MEDV\"])\n"
   ]
  },
  {
   "cell_type": "code",
   "execution_count": null,
   "id": "07989fe1-784d-4d99-8381-d90b9ee0163e",
   "metadata": {
    "jupyter": {
     "source_hidden": true
    },
    "tags": []
   },
   "outputs": [],
   "source": [
    "df.head()"
   ]
  },
  {
   "cell_type": "code",
   "execution_count": null,
   "id": "5f8c1819-abf3-4327-924e-d46bde905f72",
   "metadata": {},
   "outputs": [],
   "source": [
    "X = df[\"RM\"]\n",
    "y = target[\"MEDV\"]\n",
    "\n",
    "# Fit and make the predictions by the model\n",
    "model = sm.OLS(y, X).fit()\n",
    "predictions = model.predict(X)\n",
    "\n",
    "# Print out the statistics\n",
    "model.summary()"
   ]
  },
  {
   "cell_type": "code",
   "execution_count": null,
   "id": "fc6f0e18-3a65-4b34-aa33-065e09cd9a45",
   "metadata": {},
   "outputs": [],
   "source": [
    "X = sm.add_constant(X)\n",
    "\n",
    "model = sm.OLS(y, X).fit()\n",
    "predictions = model.predict(X)\n",
    "\n",
    "model.summary()"
   ]
  },
  {
   "cell_type": "code",
   "execution_count": null,
   "id": "3ed367a8-1ab4-4f71-bdb8-8a0ce8cb009b",
   "metadata": {},
   "outputs": [],
   "source": [
    "X = df[[\"RM\", \"LSTAT\"]]\n",
    "y = target[\"MEDV\"]\n",
    "\n",
    "model = sm.OLS(y, X).fit()\n",
    "predictions = model.predict(X)\n",
    "\n",
    "model.summary()"
   ]
  },
  {
   "cell_type": "code",
   "execution_count": null,
   "id": "f0ee89cd-1fed-4444-bf36-13a9339e8e69",
   "metadata": {},
   "outputs": [],
   "source": [
    "X = df\n",
    "y = target[\"MEDV\"]\n",
    "\n",
    "lm = linear_model.LinearRegression()\n",
    "model = lm.fit(X,y)\n"
   ]
  },
  {
   "cell_type": "code",
   "execution_count": null,
   "id": "7caf0afb-2b99-4ffd-bc5c-dbf244d2c5bf",
   "metadata": {},
   "outputs": [],
   "source": [
    "predictions = lm.predict(X)\n",
    "print(predictions[0:5])\n"
   ]
  },
  {
   "cell_type": "code",
   "execution_count": null,
   "id": "24de3254-587e-4d15-a5b2-b3ba703d0511",
   "metadata": {},
   "outputs": [],
   "source": [
    "lm.score(X,y)\n"
   ]
  },
  {
   "cell_type": "code",
   "execution_count": null,
   "id": "e7765b86-609e-433e-8324-1af5bb428da3",
   "metadata": {},
   "outputs": [],
   "source": [
    "lm.coef_\n"
   ]
  }
 ],
 "metadata": {
  "kernelspec": {
   "display_name": "Python 3.8.10 ('dbr-10_4ml-base')",
   "language": "python",
   "name": "python3"
  },
  "language_info": {
   "codemirror_mode": {
    "name": "ipython",
    "version": 3
   },
   "file_extension": ".py",
   "mimetype": "text/x-python",
   "name": "python",
   "nbconvert_exporter": "python",
   "pygments_lexer": "ipython3",
   "version": "3.8.10"
  },
  "vscode": {
   "interpreter": {
    "hash": "065e060c6089993c74c9bf4b911d37e59dadeed66bb03a666c87bc53eaee6720"
   }
  }
 },
 "nbformat": 4,
 "nbformat_minor": 5
}

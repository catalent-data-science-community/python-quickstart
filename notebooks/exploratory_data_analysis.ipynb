{
 "cells": [
  {
   "cell_type": "code",
   "execution_count": null,
   "metadata": {},
   "outputs": [],
   "source": [
    "# import built-in packages\n",
    "from warnings import filterwarnings\n",
    "import re\n",
    "\n",
    "# import third-party packages\n",
    "from pandas_profiling import ProfileReport\n",
    "import matplotlib.pyplot as plt\n",
    "import numpy as np\n",
    "import pandas as pd\n",
    "import seaborn as sns\n",
    "import scipy as sp"
   ]
  },
  {
   "cell_type": "code",
   "execution_count": null,
   "metadata": {},
   "outputs": [],
   "source": [
    "# filter out warnings to avoid unneccessary outputs\n",
    "filterwarnings(\n",
    "    'ignore'\n",
    ")"
   ]
  },
  {
   "cell_type": "code",
   "execution_count": null,
   "metadata": {},
   "outputs": [],
   "source": [
    "# set custom pandas options\n",
    "for option, value in {\n",
    "    'display.max_columns': 50,\n",
    "    'display.max_colwidth': None,\n",
    "    'display.max_info_columns': 50,\n",
    "    'display.max_rows': 20,\n",
    "    'display.precision': 4,\n",
    "    # 'plotting.backend': 'plotly'\n",
    "}.items():\n",
    "    pd.set_option(\n",
    "        option,\n",
    "        value        \n",
    "    )"
   ]
  },
  {
   "cell_type": "code",
   "execution_count": null,
   "metadata": {},
   "outputs": [],
   "source": [
    "# load each dataset into a pandas DataFrame object\n",
    "cocoon_pharmacy_df = pd.read_csv(\n",
    "    '../data/cocoon_center_pharmacy.csv'\n",
    ")\n",
    "data_literacy_df = pd.read_csv(\n",
    "    '../data/data_literacy_questionnaire.csv'\n",
    ")\n",
    "data_journey_df = pd.read_csv(\n",
    "    '../data/data_journey_questionnaire.csv'\n",
    ")\n",
    "meeting_cadence_df = pd.read_csv(\n",
    "    '../data/meeting_cadence_survey.csv'\n",
    ")"
   ]
  },
  {
   "cell_type": "code",
   "execution_count": null,
   "metadata": {},
   "outputs": [],
   "source": [
    "# create an example function with one mandatory and one optional parameter\n",
    "def display_with_info(\n",
    "    dataframe: pd.DataFrame,\n",
    "    name: str = None\n",
    ") -> None:\n",
    "    # print dataframe name if passed\n",
    "    if name:\n",
    "        print(\n",
    "            '=' * len(name),\n",
    "            end = '\\n'\n",
    "        )\n",
    "        print(\n",
    "            name,\n",
    "            end = '\\n' + (\n",
    "                '=' * len(name)\n",
    "            ) + '\\n\\n'\n",
    "        )\n",
    "    # display dataframe information\n",
    "    display(\n",
    "        dataframe.info()\n",
    "    )\n",
    "    # label the next output\n",
    "    print(\n",
    "        # create the illusion of a border by using hyphens\n",
    "        '-' * 14\n",
    "    )\n",
    "    print(\n",
    "        'First Ten Rows',\n",
    "        # create the illusion of a border by using hyphens\n",
    "        end = '\\n' + (\n",
    "            '-' * 14\n",
    "        )\n",
    "    )\n",
    "    # display the first ten rows of the dataframe\n",
    "    display(\n",
    "        dataframe.head(\n",
    "            10\n",
    "        )\n",
    "    )\n",
    "    # label the next output\n",
    "    print(\n",
    "        # create the illusion of a border by using hyphens\n",
    "        '\\n',\n",
    "        end = (\n",
    "            '-' * 13\n",
    "        ) + '\\n'\n",
    "    )\n",
    "    print(\n",
    "        'Last Ten Rows',\n",
    "        # create the illusion of a border by using hyphens\n",
    "        end = '\\n' + (\n",
    "            '-' * 13\n",
    "        )\n",
    "    )\n",
    "    # display the last ten rows of the dataframe\n",
    "    display(\n",
    "        dataframe.tail(\n",
    "            10\n",
    "        )\n",
    "    )"
   ]
  },
  {
   "cell_type": "code",
   "execution_count": null,
   "metadata": {},
   "outputs": [],
   "source": [
    "# create dictionary of dataframes and their names\n",
    "sample_datasets = {\n",
    "    'Cocoon Center Pharmacy Items & Reviews': cocoon_pharmacy_df,\n",
    "    'Data Literacy Questionnaire': data_literacy_df,\n",
    "    'Data Journey Questionnaire': data_journey_df,\n",
    "    'Meeting Cadence Survey': meeting_cadence_df\n",
    "}\n",
    "# iterate through (dataframe name - dataframe object) 'key - value' pairs \n",
    "for df_name, df_object in sample_datasets.items():\n",
    "    # display each dataframe's summary information and first/last 10 rows\n",
    "    display_with_info(\n",
    "        df_object,\n",
    "        df_name\n",
    "    )\n",
    "    # add a horizontal border to separate outputs\n",
    "    print(\n",
    "        '\\n' + (\n",
    "            '_' * 79\n",
    "        ),\n",
    "        end = '\\n\\n'\n",
    "    )"
   ]
  },
  {
   "cell_type": "code",
   "execution_count": null,
   "metadata": {},
   "outputs": [],
   "source": [
    "# iterate through sample datasets again but display profile report this time\n",
    "for df_name, df_object in sample_datasets.items():\n",
    "    display(\n",
    "        ProfileReport(\n",
    "            df_object,\n",
    "            title = f'Profile of {df_name} DataFrame',\n",
    "            html = {\n",
    "                'navbar_show': True,\n",
    "                'style': {\n",
    "                    'primary_color': '#016ba9',\n",
    "                    'full_width': True\n",
    "                }\n",
    "            },\n",
    "            progress_bar = False\n",
    "        ).to_notebook_iframe()\n",
    "    )"
   ]
  },
  {
   "cell_type": "code",
   "execution_count": null,
   "metadata": {},
   "outputs": [],
   "source": []
  }
 ],
 "metadata": {
  "kernelspec": {
   "display_name": "Python 3.8.2 ('dbr-10_4ml-base')",
   "language": "python",
   "name": "python3"
  },
  "language_info": {
   "codemirror_mode": {
    "name": "ipython",
    "version": 3
   },
   "file_extension": ".py",
   "mimetype": "text/x-python",
   "name": "python",
   "nbconvert_exporter": "python",
   "pygments_lexer": "ipython3",
   "version": "3.8.10"
  },
  "orig_nbformat": 4,
  "vscode": {
   "interpreter": {
    "hash": "065e060c6089993c74c9bf4b911d37e59dadeed66bb03a666c87bc53eaee6720"
   }
  }
 },
 "nbformat": 4,
 "nbformat_minor": 2
}

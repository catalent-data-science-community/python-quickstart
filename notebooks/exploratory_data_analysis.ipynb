{
 "cells": [
  {
   "cell_type": "code",
   "execution_count": null,
   "metadata": {},
   "outputs": [],
   "source": [
    "# import built-in packages\n",
    "from warnings import filterwarnings\n",
    "import re\n",
    "\n",
    "# import third-party packages\n",
    "from geopy.geocoders import Nominatim\n",
    "from pandas_profiling import ProfileReport\n",
    "from nltk.tokenize import word_tokenize\n",
    "from nltk.corpus import stopwords\n",
    "from nltk.stem import WordNetLemmatizer\n",
    "from nltk.tag import pos_tag\n",
    "from wordcloud import WordCloud, STOPWORDS\n",
    "import matplotlib.pyplot as plt\n",
    "import nltk\n",
    "import numpy as np\n",
    "import pandas as pd\n",
    "import plotly.express as px\n",
    "import plotly.io as pio\n",
    "import seaborn as sns\n",
    "import scipy as sp"
   ]
  },
  {
   "cell_type": "code",
   "execution_count": null,
   "metadata": {},
   "outputs": [],
   "source": [
    "# filter out warnings to avoid unneccessary outputs\n",
    "filterwarnings(\n",
    "    'ignore'\n",
    ")"
   ]
  },
  {
   "cell_type": "code",
   "execution_count": null,
   "metadata": {},
   "outputs": [],
   "source": [
    "# set matplotlib to render plots within the notebook inline\n",
    "%matplotlib inline"
   ]
  },
  {
   "cell_type": "code",
   "execution_count": null,
   "metadata": {},
   "outputs": [],
   "source": [
    "# set custom pandas options\n",
    "for option, value in {\n",
    "    'display.max_columns': 50,\n",
    "    'display.max_colwidth': None,\n",
    "    'display.max_info_columns': 50,\n",
    "    'display.max_rows': 20,\n",
    "    'display.precision': 4,\n",
    "    # 'plotting.backend': 'plotly'\n",
    "}.items():\n",
    "    pd.set_option(\n",
    "        option,\n",
    "        value        \n",
    "    )"
   ]
  },
  {
   "cell_type": "code",
   "execution_count": null,
   "metadata": {},
   "outputs": [],
   "source": [
    "# load each dataset into a pandas DataFrame object\n",
    "cocoon_pharmacy_df = pd.read_csv(\n",
    "    '../data/cocoon_center_pharmacy.csv'\n",
    ")\n",
    "data_literacy_df = pd.read_csv(\n",
    "    '../data/data_literacy_questionnaire.csv'\n",
    ")\n",
    "data_journey_df = pd.read_csv(\n",
    "    '../data/data_journey_questionnaire.csv'\n",
    ")\n",
    "meeting_cadence_df = pd.read_csv(\n",
    "    '../data/meeting_cadence_survey.csv'\n",
    ")"
   ]
  },
  {
   "cell_type": "code",
   "execution_count": null,
   "metadata": {},
   "outputs": [],
   "source": [
    "# create an example function with one mandatory and one optional parameter\n",
    "def display_with_info(\n",
    "    dataframe: pd.DataFrame,\n",
    "    name: str = None\n",
    ") -> None:\n",
    "    # print dataframe name if passed\n",
    "    if name:\n",
    "        print(\n",
    "            '=' * len(name),\n",
    "            end = '\\n'\n",
    "        )\n",
    "        print(\n",
    "            name,\n",
    "            end = '\\n' + (\n",
    "                '=' * len(name)\n",
    "            ) + '\\n\\n'\n",
    "        )\n",
    "    # display dataframe information\n",
    "    display(\n",
    "        dataframe.info()\n",
    "    )\n",
    "    # label the next output\n",
    "    print(\n",
    "        # create the illusion of a border by using hyphens\n",
    "        '-' * 14\n",
    "    )\n",
    "    print(\n",
    "        'First Ten Rows',\n",
    "        # create the illusion of a border by using hyphens\n",
    "        end = '\\n' + (\n",
    "            '-' * 14\n",
    "        )\n",
    "    )\n",
    "    # display the first ten rows of the dataframe\n",
    "    display(\n",
    "        dataframe.head(\n",
    "            10\n",
    "        )\n",
    "    )\n",
    "    # label the next output\n",
    "    print(\n",
    "        # create the illusion of a border by using hyphens\n",
    "        '\\n',\n",
    "        end = (\n",
    "            '-' * 13\n",
    "        ) + '\\n'\n",
    "    )\n",
    "    print(\n",
    "        'Last Ten Rows',\n",
    "        # create the illusion of a border by using hyphens\n",
    "        end = '\\n' + (\n",
    "            '-' * 13\n",
    "        )\n",
    "    )\n",
    "    # display the last ten rows of the dataframe\n",
    "    display(\n",
    "        dataframe.tail(\n",
    "            10\n",
    "        )\n",
    "    )"
   ]
  },
  {
   "cell_type": "code",
   "execution_count": null,
   "metadata": {},
   "outputs": [],
   "source": [
    "# create dictionary of dataframes and their names\n",
    "sample_datasets = {\n",
    "    'Cocoon Center Pharmacy Items & Reviews': cocoon_pharmacy_df,\n",
    "    'Data Literacy Questionnaire': data_literacy_df,\n",
    "    'Data Journey Questionnaire': data_journey_df,\n",
    "    'Meeting Cadence Survey': meeting_cadence_df\n",
    "}\n",
    "# iterate through (dataframe name - dataframe object) 'key - value' pairs \n",
    "for df_name, df_object in sample_datasets.items():\n",
    "    # display each dataframe's summary information and first/last 10 rows\n",
    "    display_with_info(\n",
    "        df_object,\n",
    "        df_name\n",
    "    )\n",
    "    # add a horizontal border to separate outputs\n",
    "    print(\n",
    "        '\\n' + (\n",
    "            '_' * 79\n",
    "        ),\n",
    "        end = '\\n\\n'\n",
    "    )"
   ]
  },
  {
   "cell_type": "code",
   "execution_count": null,
   "metadata": {},
   "outputs": [],
   "source": [
    "# iterate through sample datasets again but display profile report this time\n",
    "for df_name, df_object in sample_datasets.items():\n",
    "    display(\n",
    "        ProfileReport(\n",
    "            df_object,\n",
    "            title = f'Profile of {df_name} DataFrame',\n",
    "            html = {\n",
    "                'navbar_show': True,\n",
    "                'style': {\n",
    "                    'primary_color': '#016ba9',\n",
    "                    'full_width': True\n",
    "                }\n",
    "            },\n",
    "            progress_bar = False\n",
    "        ).to_notebook_iframe()\n",
    "    )"
   ]
  },
  {
   "cell_type": "markdown",
   "metadata": {},
   "source": [
    "#### ANALYZING CUSTOMER LOCATIONS"
   ]
  },
  {
   "cell_type": "code",
   "execution_count": null,
   "metadata": {},
   "outputs": [],
   "source": [
    "# clean up the names of the customer locations\n",
    "cocoon_pharmacy_df['customer_loc'] = cocoon_pharmacy_df['customer_loc'].str.strip(\n",
    ").str.lower(\n",
    ").replace(\n",
    "    {\n",
    "        'the kingdom':'saudi arabia',\n",
    "        'good':None,\n",
    "        'not available':None,\n",
    "        'ksa':'saudi arabia',\n",
    "        'the kingdom':'saudi arabia',\n",
    "        'london o':'london, ontario',\n",
    "        'cheshire':'cheshire, uk',\n",
    "        '-':None,\n",
    "        'sale, cheshire':'sale, cheshire, uk',\n",
    "        'tilbury, essex':'tilbury, essex, uk',\n",
    "        'middle east':'ksa middle east',\n",
    "        'kingston':'kingston, uk',\n",
    "        'awali':'awali, bahrain',\n",
    "        'riyadh, s. a.':'riyadh, saudi arabia',\n",
    "        'north':None,\n",
    "        'south east':None,\n",
    "        'memo':None\n",
    "    }\n",
    ")"
   ]
  },
  {
   "cell_type": "code",
   "execution_count": null,
   "metadata": {},
   "outputs": [],
   "source": [
    "# initialize geolocator object to get coordinates from location names\n",
    "geolocator = Nominatim(\n",
    "    user_agent = \"s\"\n",
    ")\n",
    "location = geolocator.geocode(\"Welsh Border\")\n",
    "geolocator.geocode(\"Abu Dhabi\")"
   ]
  },
  {
   "cell_type": "code",
   "execution_count": null,
   "metadata": {},
   "outputs": [],
   "source": [
    "# create columns with coordinates for the customer locations\n",
    "new_cocoon_df = cocoon_pharmacy_df.assign(\n",
    "    Customer_Location_Latitude_Longitude = cocoon_pharmacy_df['customer_loc'].apply(\n",
    "        # lamdda denotes an anonymous function where the 'caller' is the 'input'\n",
    "        lambda x: geolocator.geocode(x) if pd.notnull(\n",
    "            geolocator.geocode(x)\n",
    "        ) else None\n",
    "    ),\n",
    "    # use the column created in the lines above to create the two columns below\n",
    "    Latitude = cocoon_pharmacy_df['Customer_Location_Latitude_Longitude'].apply(\n",
    "        lambda x: x.latitude if pd.notnull(x) else None\n",
    "    ),\n",
    "    Longitude = cocoon_pharmacy_df['Customer_Location_Latitude_Longitude'].apply(\n",
    "        lambda x: x.longitude if pd.notnull(x) else None\n",
    "    )\n",
    ")"
   ]
  },
  {
   "cell_type": "code",
   "execution_count": null,
   "metadata": {},
   "outputs": [],
   "source": [
    "# store the modified dataframe as a .csv file in the 'data' folder\n",
    "new_cocoon_df.to_csv('../data/cocoon_pharmacy_location_added.csv')"
   ]
  },
  {
   "cell_type": "code",
   "execution_count": null,
   "metadata": {},
   "outputs": [],
   "source": [
    "# overwrite the 'cocoon_pharmacy_df' object with a dataframe of our 'new' file\n",
    "cocoon_pharmacy_df = pd.read_csv(\n",
    "    '../data/cocoon_pharmacy_location_added.csv',\n",
    "    index_col = 0\n",
    ")"
   ]
  },
  {
   "cell_type": "code",
   "execution_count": null,
   "metadata": {},
   "outputs": [],
   "source": [
    "# get list of columns in the dataframe excluding the ones pertaining to coordinates\n",
    "columns_without_customer_location = set(\n",
    "    cocoon_pharmacy_df.columns\n",
    ").difference(\n",
    "    [\n",
    "        'Customer_Location_Latitude_Longitude',\n",
    "        'Latitude',\n",
    "        'Longitude'\n",
    "    ]\n",
    ")\n",
    "# slice the dataframe for rows and columns without duplicates in the non-coordinate columns\n",
    "cocoon_pharmacy_df = cocoon_pharmacy_df.loc[\n",
    "    # slice the dataframe for columns without location and then drop the duplicates\n",
    "    cocoon_pharmacy_df[columns_without_customer_location].drop_duplicates(\n",
    "        # keep the first instance of a duplicate\n",
    "        keep  = 'first'\n",
    "    # use the index of this 'de-duped' dataframe to slice for the 'first' instance of each\n",
    "    ).index,\n",
    "    # denotes 'all' columns\n",
    "    :\n",
    "]"
   ]
  },
  {
   "cell_type": "code",
   "execution_count": null,
   "metadata": {},
   "outputs": [],
   "source": [
    "# set default renderer in plotly to iframe and use online CDN\n",
    "pio.renderers.default = \"iframe_connected\""
   ]
  },
  {
   "cell_type": "markdown",
   "metadata": {
    "tags": []
   },
   "source": [
    "#### NUMBER OF REVIEWS PER BRAND"
   ]
  },
  {
   "cell_type": "code",
   "execution_count": null,
   "metadata": {},
   "outputs": [],
   "source": [
    "plt.figure(figsize = (30,8))\n",
    "ax = sns.countplot(data = cocoon_pharmacy_df, x = 'brand', color = 'blue')\n",
    "for p in ax.patches:\n",
    "    x = p.get_x()\n",
    "    height = p.get_height()\n",
    "    width = p.get_width()\n",
    "    if pd.isnull(height):\n",
    "        pass\n",
    "    else:   \n",
    "        ax.text(x+width/2, height, str(height) , ha = 'center', weight = 'bold', fontsize = 18)\n",
    "\n",
    "plt.xticks(rotation = 45, fontsize = 18)\n",
    "plt.yticks(fontsize = 18)\n",
    "plt.xlabel('Brand', fontsize = 25)\n",
    "plt.ylabel('Review Counts', fontsize = 25)\n",
    "plt.title('Number of reviews per Brand - Total {}'.format(cocoon_pharmacy_df.shape[0]),size = 30)\n",
    "plt.show()"
   ]
  },
  {
   "cell_type": "markdown",
   "metadata": {},
   "source": [
    "#### NUMBER OF REVIEWS PER PRODUCT CATEGORY"
   ]
  },
  {
   "cell_type": "code",
   "execution_count": null,
   "metadata": {},
   "outputs": [],
   "source": [
    "plt.figure(figsize = (30,8))\n",
    "ax = sns.countplot(data = cocoon_pharmacy_df, x = 'product_cat', color = 'blue')\n",
    "for p in ax.patches: \n",
    "    x = p.get_x()\n",
    "    height = p.get_height()\n",
    "    width = p.get_width()\n",
    "    if pd.isnull(height):\n",
    "        pass\n",
    "    else:   \n",
    "        ax.text(x+width/2, height, str(height) , ha = 'center', weight = 'bold', fontsize = 18)\n",
    "\n",
    "plt.xticks(rotation = 45, fontsize = 18)\n",
    "plt.yticks(fontsize = 18)\n",
    "plt.xlabel('Product Category', fontsize = 25)\n",
    "plt.ylabel('Review Counts', fontsize = 25)\n",
    "plt.title('Number of reviews per Product Category', fontsize = 30)\n",
    "plt.show()"
   ]
  },
  {
   "cell_type": "markdown",
   "metadata": {},
   "source": [
    "#### NUMBER OF REVIEWS PER BRAND AND PRODUCT CATEGORY"
   ]
  },
  {
   "cell_type": "code",
   "execution_count": null,
   "metadata": {},
   "outputs": [],
   "source": [
    "# create a new dataframe object to view where the 'form' is grouped by the 'product category' and 'brand'\n",
    "cnt_df = cocoon_pharmacy_df.groupby(\n",
    "    [\n",
    "        'product_cat',\n",
    "        'brand'\n",
    "    ]\n",
    ")['form'].count().reset_index().rename(\n",
    "    {\n",
    "        'form':'Review Count'\n",
    "    },\n",
    "    axis = 1\n",
    ").reset_index()"
   ]
  },
  {
   "cell_type": "code",
   "execution_count": null,
   "metadata": {
    "tags": []
   },
   "outputs": [],
   "source": [
    "\n",
    "fig = px.bar(cnt_df, x = 'product_cat', y = 'Review Count', color= 'brand', color_discrete_sequence=px.colors.qualitative.Dark24)\n",
    "fig.update_xaxes(tickangle=325, title = 'Brand')\n",
    "fig.update_yaxes(title = 'Review Counts')\n",
    "fig.update_layout(title = dict(\n",
    "        text='<b>Number of reviews per Product Category and Brand</b>',\n",
    "        font=dict(\n",
    "            size=24\n",
    "        )),  xaxis={'categoryorder':'total descending'})\n",
    "fig.show()"
   ]
  },
  {
   "cell_type": "markdown",
   "metadata": {},
   "source": [
    "#### GEOGRAPHIC LOCATION OF REVIEWERS"
   ]
  },
  {
   "cell_type": "code",
   "execution_count": null,
   "metadata": {
    "tags": []
   },
   "outputs": [],
   "source": [
    "fig = px.scatter_geo(cocoon_pharmacy_df, lat='Latitude',lon='Longitude', hover_name = 'customer_loc')\n",
    "fig.update_geos(\n",
    "    resolution=50,\n",
    "    showland=True, landcolor=\"LightGreen\",\n",
    "    showocean=True, oceancolor=\"LightBlue\"\n",
    ")\n",
    "\n",
    "fig.update_layout(\n",
    "    margin=dict(l=5, r=5, t=25, b=5),\n",
    "    paper_bgcolor=\"lightGrey\",\n",
    ")\n",
    "fig.update_traces(marker=dict(size=9, color = 'yellow', opacity = 0.6))\n",
    "fig.update_layout(title = 'Customer Locations, Cocoon Pharmacy')\n",
    "fig.show()"
   ]
  },
  {
   "cell_type": "markdown",
   "metadata": {
    "tags": []
   },
   "source": [
    "#### OVERALL PRICE VARIATION PER BRAND AND PRODUCT CATEGORY COMBINATION"
   ]
  },
  {
   "cell_type": "code",
   "execution_count": null,
   "metadata": {},
   "outputs": [],
   "source": [
    "brand_product_prices = cocoon_pharmacy_df[['brand','product_cat','form','volume','price']].drop_duplicates()\n",
    "brand_product_prices['volume'] = brand_product_prices['volume'].replace({'not available':None})\n",
    "brand_product_prices['price_per_ml'] = brand_product_prices['price'].div(brand_product_prices['volume'].astype('float'))\n",
    "\n",
    "fig = px.box(brand_product_prices, x = 'brand', y = 'price_per_ml', color= 'product_cat', points = 'all')\n",
    "fig.update_xaxes(tickangle=325, title = 'Brand')\n",
    "fig.update_yaxes(title = 'Price per ml')\n",
    "fig.update_layout(title = 'PRICE VARIATION PER BRAND AND PRODUCT CATEGORY')\n",
    "fig.update_layout(title = dict(\n",
    "        text='<b>Price variation per product and brand</b>',\n",
    "        font=dict(\n",
    "            size=24\n",
    "        )))\n",
    "fig.show()\n"
   ]
  },
  {
   "cell_type": "markdown",
   "metadata": {},
   "source": [
    "#### TEXT ANALYSIS"
   ]
  },
  {
   "cell_type": "code",
   "execution_count": null,
   "metadata": {},
   "outputs": [],
   "source": [
    "# iterate through list of components to download from the NLTK library\n",
    "for component in [\n",
    "    'punkt',\n",
    "    'stopwords',\n",
    "    'averaged_perceptron_tagger',\n",
    "    'wordnet',\n",
    "    'omw-1.4'\n",
    "]:\n",
    "    nltk.download(\n",
    "        component\n",
    "    )"
   ]
  },
  {
   "cell_type": "code",
   "execution_count": null,
   "metadata": {},
   "outputs": [],
   "source": [
    "# remove special characthers from the body of the reviews and convert all text to lowercase\n",
    "cocoon_pharmacy_df['body_review'] = cocoon_pharmacy_df['body_review'].str.lower().apply(\n",
    "    lambda x:  re.sub(\n",
    "        r'[^\\w\\s]',\n",
    "        '',\n",
    "        x\n",
    "    )\n",
    ")"
   ]
  },
  {
   "cell_type": "code",
   "execution_count": null,
   "metadata": {},
   "outputs": [],
   "source": [
    "def makewordcloud(df):\n",
    "    words = ' '.join(df['body_review'])\n",
    "    tokens = word_tokenize(words)\n",
    "    english_stops = set(stopwords.words('english'))\n",
    "    words_fin = \" \".join([w for w in tokens if len(w) > 2 and w not in english_stops and w and w.isalpha()])\n",
    "    lemmatizer = WordNetLemmatizer()\n",
    "    word_pos = pos_tag(word_tokenize(words_fin))\n",
    "    string_l = ''\n",
    "    for i in range (0, len(word_pos)):\n",
    "        if \"V\" in word_pos[i][1][0]:\n",
    "            pos = 'v'\n",
    "        else:\n",
    "            pos = 'n'\n",
    "        lem = lemmatizer.lemmatize(word_pos[i][0], pos)\n",
    "        string_l += (lem) + ' '\n",
    "        \n",
    "    wordcloud = WordCloud(stopwords=STOPWORDS, prefer_horizontal=0.9, max_words = 100).generate(string_l)\n",
    " \n",
    "    return wordcloud"
   ]
  },
  {
   "cell_type": "code",
   "execution_count": null,
   "metadata": {},
   "outputs": [],
   "source": [
    "col = 0\n",
    "fig,ax = plt.subplots(nrows = 1, ncols = 4, figsize = (25,10))\n",
    "for product_cat in cocoon_pharmacy_df['product_cat'].value_counts().sort_values(ascending = False)[:4].index:\n",
    "    print(product_cat)\n",
    "    ax[col].imshow(makewordcloud(cocoon_pharmacy_df[cocoon_pharmacy_df['product_cat'] == product_cat]))\n",
    "    ax[col].axis(\"off\")\n",
    "    ax[col].set_title('Wordcloud ' + product_cat,fontsize = 18)\n",
    "    col+=1\n",
    "fig.tight_layout()\n",
    "plt.show()"
   ]
  }
 ],
 "metadata": {
  "kernelspec": {
   "display_name": "Python 3.8.2 ('dbr-10_4ml-base')",
   "language": "python",
   "name": "python3"
  },
  "language_info": {
   "codemirror_mode": {
    "name": "ipython",
    "version": 3
   },
   "file_extension": ".py",
   "mimetype": "text/x-python",
   "name": "python",
   "nbconvert_exporter": "python",
   "pygments_lexer": "ipython3",
   "version": "3.8.10"
  },
  "vscode": {
   "interpreter": {
    "hash": "065e060c6089993c74c9bf4b911d37e59dadeed66bb03a666c87bc53eaee6720"
   }
  }
 },
 "nbformat": 4,
 "nbformat_minor": 4
}
